{
 "cells": [
  {
   "cell_type": "markdown",
   "id": "ae2231e1",
   "metadata": {},
   "source": [
    "# 1 Numpy"
   ]
  },
  {
   "cell_type": "code",
   "execution_count": 4,
   "id": "b4e8be01",
   "metadata": {},
   "outputs": [],
   "source": [
    "import numpy as np"
   ]
  },
  {
   "cell_type": "code",
   "execution_count": 5,
   "id": "d6956d76",
   "metadata": {},
   "outputs": [],
   "source": [
    "revenus = [1222, 2000, 3000, 4000]\n",
    "revenus_array = np.array(revenus)"
   ]
  },
  {
   "cell_type": "code",
   "execution_count": 6,
   "id": "cd45c521",
   "metadata": {},
   "outputs": [
    {
     "data": {
      "text/plain": [
       "(4,)"
      ]
     },
     "execution_count": 6,
     "metadata": {},
     "output_type": "execute_result"
    }
   ],
   "source": [
    "revenus_array.shape"
   ]
  },
  {
   "cell_type": "code",
   "execution_count": 7,
   "id": "ce7e4904",
   "metadata": {},
   "outputs": [],
   "source": [
    "hugo = [1300, 400, 23]\n",
    "richard = [1700, 560, 24]\n",
    "emilie = [2500, 900, 30]\n",
    "gaspard = [3000, 1000, 22]\n",
    "yohann = [2400, 700, 28]"
   ]
  },
  {
   "cell_type": "code",
   "execution_count": 8,
   "id": "ccf13283",
   "metadata": {},
   "outputs": [],
   "source": [
    "tableau = [hugo, richard, emilie, gaspard, yohann]"
   ]
  },
  {
   "cell_type": "code",
   "execution_count": 9,
   "id": "12458a52",
   "metadata": {},
   "outputs": [],
   "source": [
    "data = np.array(tableau)"
   ]
  },
  {
   "cell_type": "code",
   "execution_count": 10,
   "id": "bc3b3448",
   "metadata": {},
   "outputs": [
    {
     "data": {
      "text/plain": [
       "array([[1300,  400,   23],\n",
       "       [1700,  560,   24],\n",
       "       [2500,  900,   30],\n",
       "       [3000, 1000,   22],\n",
       "       [2400,  700,   28]])"
      ]
     },
     "execution_count": 10,
     "metadata": {},
     "output_type": "execute_result"
    }
   ],
   "source": [
    "data"
   ]
  },
  {
   "cell_type": "code",
   "execution_count": 11,
   "id": "18a3208b",
   "metadata": {},
   "outputs": [
    {
     "data": {
      "text/plain": [
       "400"
      ]
     },
     "execution_count": 11,
     "metadata": {},
     "output_type": "execute_result"
    }
   ],
   "source": [
    "data[0,1]"
   ]
  },
  {
   "cell_type": "code",
   "execution_count": 12,
   "id": "77afdf89",
   "metadata": {},
   "outputs": [
    {
     "data": {
      "text/plain": [
       "array([3000, 1000,   22])"
      ]
     },
     "execution_count": 12,
     "metadata": {},
     "output_type": "execute_result"
    }
   ],
   "source": [
    "data[3, :]"
   ]
  },
  {
   "cell_type": "code",
   "execution_count": 13,
   "id": "64f278dc",
   "metadata": {},
   "outputs": [
    {
     "data": {
      "text/plain": [
       "array([[1300,  400,   23],\n",
       "       [1700,  560,   24]])"
      ]
     },
     "execution_count": 13,
     "metadata": {},
     "output_type": "execute_result"
    }
   ],
   "source": [
    "data[data[:, 0] < 2000]"
   ]
  },
  {
   "cell_type": "code",
   "execution_count": 14,
   "id": "9a1309da",
   "metadata": {},
   "outputs": [],
   "source": [
    "fred = [1800, 500, 32]"
   ]
  },
  {
   "cell_type": "code",
   "execution_count": 15,
   "id": "ab9493c3",
   "metadata": {},
   "outputs": [],
   "source": [
    "data = np.vstack((data, fred))"
   ]
  },
  {
   "cell_type": "code",
   "execution_count": 16,
   "id": "a857268a",
   "metadata": {},
   "outputs": [
    {
     "data": {
      "text/plain": [
       "array([[1300,  400,   23],\n",
       "       [1700,  560,   24],\n",
       "       [2500,  900,   30],\n",
       "       [3000, 1000,   22],\n",
       "       [2400,  700,   28],\n",
       "       [1800,  500,   32]])"
      ]
     },
     "execution_count": 16,
     "metadata": {},
     "output_type": "execute_result"
    }
   ],
   "source": [
    "data"
   ]
  },
  {
   "cell_type": "code",
   "execution_count": 17,
   "id": "0175c3db",
   "metadata": {},
   "outputs": [
    {
     "data": {
      "text/plain": [
       "array([ 5. ,  5.5,  6. ,  6.5,  7. ,  7.5,  8. ,  8.5,  9. ,  9.5, 10. ])"
      ]
     },
     "execution_count": 17,
     "metadata": {},
     "output_type": "execute_result"
    }
   ],
   "source": [
    "a = np.linspace(5,10,11)\n",
    "a"
   ]
  },
  {
   "cell_type": "code",
   "execution_count": 18,
   "id": "63b8b42e",
   "metadata": {},
   "outputs": [
    {
     "name": "stdout",
     "output_type": "stream",
     "text": [
      "[9.  9.5]\n"
     ]
    }
   ],
   "source": [
    "print(a[-3:-1])"
   ]
  },
  {
   "cell_type": "code",
   "execution_count": 19,
   "id": "f79f847c",
   "metadata": {},
   "outputs": [],
   "source": [
    "b = np.array([[[1,2],[4,5]],[[1,2],[4,5]],[[10,2],[4,5]]])"
   ]
  },
  {
   "cell_type": "code",
   "execution_count": 20,
   "id": "149e58b4",
   "metadata": {},
   "outputs": [
    {
     "data": {
      "text/plain": [
       "array([[10,  2],\n",
       "       [ 4,  5]])"
      ]
     },
     "execution_count": 20,
     "metadata": {},
     "output_type": "execute_result"
    }
   ],
   "source": [
    "b[2,:,:]"
   ]
  },
  {
   "cell_type": "markdown",
   "id": "0ac52b58",
   "metadata": {},
   "source": [
    "# 2 Pandas"
   ]
  },
  {
   "cell_type": "code",
   "execution_count": 21,
   "id": "99ba10bc",
   "metadata": {},
   "outputs": [],
   "source": [
    "import pandas as pd"
   ]
  },
  {
   "cell_type": "code",
   "execution_count": 22,
   "id": "c63e73c9",
   "metadata": {},
   "outputs": [
    {
     "data": {
      "text/html": [
       "<div>\n",
       "<style scoped>\n",
       "    .dataframe tbody tr th:only-of-type {\n",
       "        vertical-align: middle;\n",
       "    }\n",
       "\n",
       "    .dataframe tbody tr th {\n",
       "        vertical-align: top;\n",
       "    }\n",
       "\n",
       "    .dataframe thead th {\n",
       "        text-align: right;\n",
       "    }\n",
       "</style>\n",
       "<table border=\"1\" class=\"dataframe\">\n",
       "  <thead>\n",
       "    <tr style=\"text-align: right;\">\n",
       "      <th></th>\n",
       "      <th>identifiant</th>\n",
       "      <th>email</th>\n",
       "      <th>nom</th>\n",
       "      <th>genre</th>\n",
       "    </tr>\n",
       "  </thead>\n",
       "  <tbody>\n",
       "    <tr>\n",
       "      <th>0</th>\n",
       "      <td>0</td>\n",
       "      <td>LaurentDagenais@rhyta.com</td>\n",
       "      <td>Laurent Dagenais</td>\n",
       "      <td>M</td>\n",
       "    </tr>\n",
       "    <tr>\n",
       "      <th>1</th>\n",
       "      <td>1</td>\n",
       "      <td>GuyMarois@fleckens.hu</td>\n",
       "      <td>Guy Marois</td>\n",
       "      <td>M</td>\n",
       "    </tr>\n",
       "    <tr>\n",
       "      <th>2</th>\n",
       "      <td>2</td>\n",
       "      <td>BeaufortLesage@einrot.com</td>\n",
       "      <td>Beaufort Lesage</td>\n",
       "      <td>M</td>\n",
       "    </tr>\n",
       "    <tr>\n",
       "      <th>3</th>\n",
       "      <td>3</td>\n",
       "      <td>RussellDurand@armyspy.com</td>\n",
       "      <td>Russell Durand</td>\n",
       "      <td>M</td>\n",
       "    </tr>\n",
       "    <tr>\n",
       "      <th>4</th>\n",
       "      <td>4</td>\n",
       "      <td>AlexisRiel@rhyta.com</td>\n",
       "      <td>Alexis Riel</td>\n",
       "      <td>M</td>\n",
       "    </tr>\n",
       "  </tbody>\n",
       "</table>\n",
       "</div>"
      ],
      "text/plain": [
       "   identifiant                      email               nom genre\n",
       "0            0  LaurentDagenais@rhyta.com  Laurent Dagenais     M\n",
       "1            1      GuyMarois@fleckens.hu        Guy Marois     M\n",
       "2            2  BeaufortLesage@einrot.com   Beaufort Lesage     M\n",
       "3            3  RussellDurand@armyspy.com    Russell Durand     M\n",
       "4            4       AlexisRiel@rhyta.com       Alexis Riel     M"
      ]
     },
     "execution_count": 22,
     "metadata": {},
     "output_type": "execute_result"
    }
   ],
   "source": [
    "data = pd.read_csv('data_2/clients.csv')\n",
    "data.head()"
   ]
  },
  {
   "cell_type": "markdown",
   "id": "4f6f583f",
   "metadata": {},
   "source": [
    "data_json = pd.read_json('data_2/clients.json')\n",
    "data_json.headad()"
   ]
  },
  {
   "cell_type": "code",
   "execution_count": 23,
   "id": "d0d6d7f2",
   "metadata": {},
   "outputs": [],
   "source": [
    "data_excel = pd.read_excel('data_2/clients.xlsx')"
   ]
  },
  {
   "cell_type": "code",
   "execution_count": 24,
   "id": "c35d1797",
   "metadata": {},
   "outputs": [
    {
     "data": {
      "text/html": [
       "<div>\n",
       "<style scoped>\n",
       "    .dataframe tbody tr th:only-of-type {\n",
       "        vertical-align: middle;\n",
       "    }\n",
       "\n",
       "    .dataframe tbody tr th {\n",
       "        vertical-align: top;\n",
       "    }\n",
       "\n",
       "    .dataframe thead th {\n",
       "        text-align: right;\n",
       "    }\n",
       "</style>\n",
       "<table border=\"1\" class=\"dataframe\">\n",
       "  <thead>\n",
       "    <tr style=\"text-align: right;\">\n",
       "      <th></th>\n",
       "      <th>identifiant</th>\n",
       "      <th>email</th>\n",
       "      <th>nom</th>\n",
       "      <th>genre</th>\n",
       "    </tr>\n",
       "  </thead>\n",
       "  <tbody>\n",
       "    <tr>\n",
       "      <th>0</th>\n",
       "      <td>0</td>\n",
       "      <td>LaurentDagenais@rhyta.com</td>\n",
       "      <td>Laurent Dagenais</td>\n",
       "      <td>M</td>\n",
       "    </tr>\n",
       "    <tr>\n",
       "      <th>1</th>\n",
       "      <td>1</td>\n",
       "      <td>GuyMarois@fleckens.hu</td>\n",
       "      <td>Guy Marois</td>\n",
       "      <td>M</td>\n",
       "    </tr>\n",
       "    <tr>\n",
       "      <th>2</th>\n",
       "      <td>2</td>\n",
       "      <td>BeaufortLesage@einrot.com</td>\n",
       "      <td>Beaufort Lesage</td>\n",
       "      <td>M</td>\n",
       "    </tr>\n",
       "    <tr>\n",
       "      <th>3</th>\n",
       "      <td>3</td>\n",
       "      <td>RussellDurand@armyspy.com</td>\n",
       "      <td>Russell Durand</td>\n",
       "      <td>M</td>\n",
       "    </tr>\n",
       "    <tr>\n",
       "      <th>4</th>\n",
       "      <td>4</td>\n",
       "      <td>AlexisRiel@rhyta.com</td>\n",
       "      <td>Alexis Riel</td>\n",
       "      <td>M</td>\n",
       "    </tr>\n",
       "  </tbody>\n",
       "</table>\n",
       "</div>"
      ],
      "text/plain": [
       "   identifiant                      email               nom genre\n",
       "0            0  LaurentDagenais@rhyta.com  Laurent Dagenais     M\n",
       "1            1      GuyMarois@fleckens.hu        Guy Marois     M\n",
       "2            2  BeaufortLesage@einrot.com   Beaufort Lesage     M\n",
       "3            3  RussellDurand@armyspy.com    Russell Durand     M\n",
       "4            4       AlexisRiel@rhyta.com       Alexis Riel     M"
      ]
     },
     "execution_count": 24,
     "metadata": {},
     "output_type": "execute_result"
    }
   ],
   "source": [
    "data_excel.head()"
   ]
  },
  {
   "cell_type": "code",
   "execution_count": 25,
   "id": "78298e9c",
   "metadata": {},
   "outputs": [
    {
     "data": {
      "text/plain": [
       "array([[0, 'LaurentDagenais@rhyta.com', 'Laurent Dagenais', 'M'],\n",
       "       [1, 'GuyMarois@fleckens.hu', 'Guy Marois', 'M'],\n",
       "       [2, 'BeaufortLesage@einrot.com', 'Beaufort Lesage', 'M'],\n",
       "       [3, 'RussellDurand@armyspy.com', 'Russell Durand', 'M'],\n",
       "       [4, 'AlexisRiel@rhyta.com', 'Alexis Riel', 'M'],\n",
       "       [5, 'LeonLapresse@cuvox.de', 'Leon Lapresse', 'M'],\n",
       "       [6, 'OrvilleRouthier@gustr.com', 'Orville Routhier', 'M'],\n",
       "       [7, 'AgramantPepin@dayrep.com', 'Agramant Pepin', 'M'],\n",
       "       [8, 'AiglentinaLambert@fleckens.hu', 'Aiglentina Lambert', 'F'],\n",
       "       [9, 'TheodoreClavet@teleworm.us', 'Theodore Clavet', 'M'],\n",
       "       [10, 'ByronLefebvre@jourrapide.com', 'Byron Lefebvre', 'M'],\n",
       "       [11, 'FlorusDevoe@einrot.com', 'Florus Devoe', 'M'],\n",
       "       [12, 'NormandArsenault@armyspy.com', 'Normand Arsenault', 'M'],\n",
       "       [13, 'AcelineHughes@jourrapide.com', 'Aceline Hughes', 'F'],\n",
       "       [14, 'GastonBrisette@superrito.com', 'Gaston Brisette', 'M'],\n",
       "       [15, 'AgateGrandbois@gustr.com', 'Agate Grandbois', 'F'],\n",
       "       [16, 'AgricanFoucault@jourrapide.com', 'Agrican Foucault', 'M'],\n",
       "       [17, 'PrunellaJosseaume@armyspy.com', 'Prunella Josseaume', 'F'],\n",
       "       [18, 'YseultCharest@armyspy.com', 'Yseult Charest', 'F'],\n",
       "       [19, 'DorotheeAupry@cuvox.de', 'Dorothee Aupry', 'F'],\n",
       "       [20, 'AmauryReault@teleworm.us', 'Amaury Reault', 'M'],\n",
       "       [21, 'GillesBeauchamps@superrito.com', 'Gilles Beauchamps', 'M'],\n",
       "       [22, 'FranckDumont@gustr.com', 'Franck Dumont', 'M'],\n",
       "       [23, 'DelmareLHeureux@dayrep.com', 'Delmare L Heureux', 'F'],\n",
       "       [24, 'AlphonseCantin@cuvox.de', 'Alphonse Cantin', 'M'],\n",
       "       [25, 'BlondelleRochon@gustr.com', 'Blondelle Rochon', 'F'],\n",
       "       [26, 'SavilleBernard@armyspy.com', 'Saville Bernard', 'M'],\n",
       "       [27, 'AnnetteJolicoeur@armyspy.com', 'Annette Jolicoeur', 'F'],\n",
       "       [28, 'BradamateMichel@armyspy.com', 'Bradamate Michel', 'F'],\n",
       "       [29, 'HilaireFrappier@armyspy.com', 'Hilaire Frappier', 'F'],\n",
       "       [30, 'MarieBriard@gustr.com', 'Marie Briard', 'F'],\n",
       "       [31, 'MadeleineBatard@superrito.com', 'Madeleine Batard', 'F'],\n",
       "       [32, 'ArberGarcia@dayrep.com', 'Arber Garcia', 'M'],\n",
       "       [33, 'SaberViens@superrito.com', 'Saber Viens', 'M'],\n",
       "       [34, 'ArnaudDubois@rhyta.com', 'Arnaud Dubois', 'M'],\n",
       "       [35, 'PryorBeauchamp@dayrep.com', 'Pryor Beauchamp', 'M'],\n",
       "       [36, 'AlphonsePotvin@armyspy.com', 'Alphonse Potvin', 'M'],\n",
       "       [37, 'FitzLafontaine@dayrep.com', 'Fitz Lafontaine', 'M'],\n",
       "       [38, 'DelmareLamothe@gustr.com', 'Delmare Lamothe', 'F'],\n",
       "       [39, 'DaisiBoileau@jourrapide.com', 'Daisi Boileau', 'F'],\n",
       "       [40, 'SomerPaquette@jourrapide.com', 'Somer Paquette', 'M'],\n",
       "       [41, 'OlivieCourtemanche@armyspy.com', 'Olivie Courtemanche', 'F'],\n",
       "       [42, 'GermainHughes@teleworm.us', 'Germain Hughes', 'M'],\n",
       "       [43, 'MorganaBellemare@superrito.com', 'Morgana Bellemare', 'F'],\n",
       "       [44, 'MerciMorin@gustr.com', 'Merci Morin', 'F'],\n",
       "       [45, 'VerneyBedard@dayrep.com', 'Verney Bedard', 'M'],\n",
       "       [46, 'IgnaceAudibert@armyspy.com', 'Ignace Audibert', 'M'],\n",
       "       [47, 'FranckBinet@superrito.com', 'Franck Binet', 'M'],\n",
       "       [48, 'SumnerRocheleau@einrot.com', 'Sumner Rocheleau', 'M'],\n",
       "       [49, 'AubertPatel@armyspy.com', 'Aubert Patel', 'M'],\n",
       "       [50, 'SumnerLaprise@superrito.com', 'Sumner Laprise', 'M'],\n",
       "       [51, 'MadeleineLeveille@dayrep.com', 'Madeleine Leveille', 'F'],\n",
       "       [52, 'BelisardaGuedry@dayrep.com', 'Belisarda Guedry', 'F'],\n",
       "       [53, 'ZurieTheberge@gustr.com', 'Zurie Theberge', 'F'],\n",
       "       [54, 'ErmengardiBousquet@dayrep.com', 'Ermengardi Bousquet', 'F'],\n",
       "       [55, 'FlorenceBeaudoin@einrot.com', 'Florence Beaudoin', 'F'],\n",
       "       [56, 'LeoneCrete@armyspy.com', 'Leone Crete', 'F'],\n",
       "       [57, 'SearlaitCote@superrito.com', 'Searlait Cote', 'F'],\n",
       "       [58, 'AlphonsineBourassa@cuvox.de', 'Alphonsine Bourassa', 'F'],\n",
       "       [59, 'DidianeDAubigne@einrot.com', 'Didiane D Aubigne', 'F'],\n",
       "       [60, 'EdouardLacroix@cuvox.de', 'Edouard Lacroix', 'M'],\n",
       "       [61, 'OdeletteCharron@superrito.com', 'Odelette Charron', 'F'],\n",
       "       [62, 'AleronBerard@rhyta.com', 'Aleron Berard', 'M'],\n",
       "       [63, 'SylvieDuranseau@einrot.com', 'Sylvie Duranseau', 'F'],\n",
       "       [64, 'YvetteDAvis@cuvox.de', 'Yvette D Avis', 'F'],\n",
       "       [65, 'SolaineLecuyer@dayrep.com', 'Solaine Lecuyer', 'F'],\n",
       "       [66, 'CourtlandDavid@cuvox.de', 'Courtland David', 'M'],\n",
       "       [67, 'PatienceCharbonneau@jourrapide.com', 'Patience Charbonneau',\n",
       "        'F'],\n",
       "       [68, 'EmmanuelLanctot@cuvox.de', 'Emmanuel Lanctot', 'M'],\n",
       "       [69, 'MusetteProvencher@armyspy.com', 'Musette Provencher', 'F'],\n",
       "       [70, 'MorganaMarchesseault@teleworm.us', 'Morgana Marchesseault',\n",
       "        'F'],\n",
       "       [71, 'ViolletteArnoux@cuvox.de', 'Viollette Arnoux', 'F'],\n",
       "       [72, 'SlainieGregoire@cuvox.de', 'Slainie Gregoire', 'F'],\n",
       "       [73, 'GarlandLagueux@rhyta.com', 'Garland Lagueux', 'F'],\n",
       "       [74, 'FerragusGrimard@cuvox.de', 'Ferragus Grimard', 'M'],\n",
       "       [75, 'JeanTollmache@einrot.com', 'Jean Tollmache', 'M'],\n",
       "       [76, 'LanceParent@teleworm.us', 'Lance Parent', 'M'],\n",
       "       [77, 'CheneyChaloux@cuvox.de', 'Cheney Chaloux', 'M'],\n",
       "       [78, 'PierpontLamarre@superrito.com', 'Pierpont Lamarre', 'M'],\n",
       "       [79, 'ComforteQuerry@superrito.com', 'Comforte Querry', 'F'],\n",
       "       [80, 'NadineMasson@teleworm.us', 'Nadine Masson', 'F'],\n",
       "       [81, 'FranceLaderoute@jourrapide.com', 'France Laderoute', 'F'],\n",
       "       [82, 'LothairBonenfant@dayrep.com', 'Lothair Bonenfant', 'M'],\n",
       "       [83, 'OlivieNorbert@cuvox.de', 'Olivie Norbert', 'F'],\n",
       "       [84, 'SomerMarleau@cuvox.de', 'Somer Marleau', 'M'],\n",
       "       [85, 'AstridJolicoeur@superrito.com', 'Astrid Jolicoeur', 'F'],\n",
       "       [86, 'OlivierGaillard@superrito.com', 'Olivier Gaillard', 'M'],\n",
       "       [87, 'PhilipPinneau@teleworm.us', 'Philip Pinneau', 'M'],\n",
       "       [88, 'AlexisLagrange@gustr.com', 'Alexis Lagrange', 'M'],\n",
       "       [89, 'HeloiseGregoire@dayrep.com', 'Heloise Gregoire', 'F'],\n",
       "       [90, 'DexterDavid@fleckens.hu', 'Dexter David', 'M'],\n",
       "       [91, 'JacquesMethot@cuvox.de', 'Jacques Methot', 'M'],\n",
       "       [92, 'AnceloteDesforges@cuvox.de', 'Ancelote Desforges', 'F'],\n",
       "       [93, 'JulietteOuellet@rhyta.com', 'Juliette Ouellet', 'F'],\n",
       "       [94, 'AvrilSylvain@superrito.com', 'Avril Sylvain', 'F'],\n",
       "       [95, 'RachellePlaisance@armyspy.com', 'Rachelle Plaisance', 'F'],\n",
       "       [96, 'BenjaminLabrie@fleckens.hu', 'Benjamin Labrie', 'M'],\n",
       "       [97, 'LaureBondy@superrito.com', 'Laure Bondy', 'F'],\n",
       "       [98, 'NatalieLeveille@rhyta.com', 'Natalie Leveille', 'F'],\n",
       "       [99, 'SydneyGuibord@superrito.com', 'Sydney Guibord', 'F'],\n",
       "       [100, 'ZdenekVadnais@superrito.com', 'Zdenek Vadnais', 'M'],\n",
       "       [101, 'LoyalQuenneville@superrito.com', 'Loyal Quenneville', 'M'],\n",
       "       [102, 'ErnestTachel@cuvox.de', 'Ernest Tachel', 'M'],\n",
       "       [103, 'MatthieuPouchard@teleworm.us', 'Matthieu Pouchard', 'M'],\n",
       "       [104, 'SearlasArtois@rhyta.com', 'Searlas Artois', 'M'],\n",
       "       [105, 'ArnoLeBatelier@einrot.com', 'Arno Le Batelier', 'M'],\n",
       "       [106, 'EstellePoisson@jourrapide.com', 'Estelle Poisson', 'F'],\n",
       "       [107, 'HarcourtCharpentier@cuvox.de', 'Harcourt Charpentier', 'M'],\n",
       "       [108, 'CrescentLavallee@armyspy.com', 'Crescent Lavallee', 'F'],\n",
       "       [109, 'EugeniaVadeboncoeur@cuvox.de', 'Eugenia Vadeboncoeur', 'F'],\n",
       "       [110, 'GenevreLabrie@cuvox.de', 'Genevre Labrie', 'F'],\n",
       "       [111, 'NormandCote@dayrep.com', 'Normand Cote', 'M'],\n",
       "       [112, 'ZoeLeclair@gustr.com', 'Zoe Leclair', 'F'],\n",
       "       [113, 'PhillipaPerrault@einrot.com', 'Phillipa Perrault', 'F'],\n",
       "       [114, 'EliseDesrosiers@jourrapide.com', 'Elise Desrosiers', 'F'],\n",
       "       [115, 'RussellRochon@superrito.com', 'Russell Rochon', 'M'],\n",
       "       [116, 'BeldaLauzier@armyspy.com', 'Belda Lauzier', 'F'],\n",
       "       [117, 'AlphonsineSacre@einrot.com', 'Alphonsine Sacre', 'F'],\n",
       "       [118, 'AubineLabelle@cuvox.de', 'Aubine Labelle', 'F'],\n",
       "       [119, 'EmileVadnais@rhyta.com', 'Emile Vadnais', 'M'],\n",
       "       [120, 'ArienneCantin@superrito.com', 'Arienne Cantin', 'F'],\n",
       "       [121, 'JacquesMarcheterre@einrot.com', 'Jacques Marcheterre', 'M'],\n",
       "       [122, 'EliotDupuis@gustr.com', 'Eliot Dupuis', 'M'],\n",
       "       [123, 'ArthurPlante@jourrapide.com', 'Arthur Plante', 'M'],\n",
       "       [124, 'SacripantLabrie@armyspy.com', 'Sacripant Labrie', 'M'],\n",
       "       [125, 'SibylaLizotte@cuvox.de', 'Sibyla Lizotte', 'F'],\n",
       "       [126, 'ChristianLaberge@armyspy.com', 'Christian Laberge', 'M'],\n",
       "       [127, 'VickDavid@gustr.com', 'Vick David', 'M'],\n",
       "       [128, 'ComforteCloutier@einrot.com', 'Comforte Cloutier', 'F'],\n",
       "       [129, 'ClaudeGalarneau@armyspy.com', 'Claude Galarneau', 'M'],\n",
       "       [130, 'ElisePerrault@superrito.com', 'Elise Perrault', 'F'],\n",
       "       [131, 'LoringRocheleau@cuvox.de', 'Loring Rocheleau', 'M'],\n",
       "       [132, 'MathildeSansouci@superrito.com', 'Mathilde Sansouci', 'F'],\n",
       "       [133, 'AmaurySirois@superrito.com', 'Amaury Sirois', 'M'],\n",
       "       [134, 'ChristelleLandry@jourrapide.com', 'Christelle Landry', 'F'],\n",
       "       [135, 'AdelaideBrousse@gustr.com', 'Adelaide Brousse', 'F'],\n",
       "       [136, 'BriceFaure@einrot.com', 'Brice Faure', 'M'],\n",
       "       [137, 'AlaineHervieux@rhyta.com', 'Alaine Hervieux', 'F'],\n",
       "       [138, 'LanceCroteau@einrot.com', 'Lance Croteau', 'M'],\n",
       "       [139, 'AurelieBazinet@dayrep.com', 'Aurelie Bazinet', 'F'],\n",
       "       [140, 'AstolphoVeronneau@teleworm.us', 'Astolpho Veronneau', 'M'],\n",
       "       [141, 'JolieDeblois@armyspy.com', 'Jolie Deblois', 'F'],\n",
       "       [142, 'MireilleParenteau@superrito.com', 'Mireille Parenteau',\n",
       "        'F'],\n",
       "       [143, 'ToussaintBrodeur@rhyta.com', 'Toussaint Brodeur', 'M'],\n",
       "       [144, 'PorterSimard@armyspy.com', 'Porter Simard', 'M'],\n",
       "       [145, 'JeromedeLaunay@fleckens.hu', 'Jeromede Launay', 'M'],\n",
       "       [146, 'LowellPatel@rhyta.com', 'Lowell Patel', 'M'],\n",
       "       [147, 'GarlandMarcheterre@fleckens.hu', 'Garland Marcheterre',\n",
       "        'F'],\n",
       "       [148, 'OlivierAube@armyspy.com', 'Olivier Aube', 'M'],\n",
       "       [149, 'FrontinoBrian@einrot.com', 'Frontino Brian', 'M'],\n",
       "       [150, 'RochMireault@gustr.com', 'Roch Mireault', 'M'],\n",
       "       [151, 'NathalieCormier@cuvox.de', 'Nathalie Cormier', 'F'],\n",
       "       [152, 'VallisMainville@gustr.com', 'Vallis Mainville', 'M'],\n",
       "       [153, 'DanielleNeufville@teleworm.us', 'Danielle Neufville', 'F'],\n",
       "       [154, 'AllyrianeRacine@gustr.com', 'Allyriane Racine', 'F'],\n",
       "       [155, 'PierpontFlamand@fleckens.hu', 'Pierpont Flamand', 'M'],\n",
       "       [156, 'DanielHuot@rhyta.com', 'Daniel Huot', 'M'],\n",
       "       [157, 'HughPoisson@fleckens.hu', 'Hugh Poisson', 'M'],\n",
       "       [158, 'YoletteMoreau@dayrep.com', 'Yolette Moreau', 'F'],\n",
       "       [159, 'GasparReault@dayrep.com', 'Gaspar Reault', 'M'],\n",
       "       [160, 'DelitBisaillon@teleworm.us', 'Delit Bisaillon', 'F'],\n",
       "       [161, 'ManonDastous@armyspy.com', 'Manon Dastous', 'F'],\n",
       "       [162, 'LoyalFouquet@armyspy.com', 'Loyal Fouquet', 'M'],\n",
       "       [163, 'ApollineLaframboise@teleworm.us', 'Apolline Laframboise',\n",
       "        'F'],\n",
       "       [164, 'OrielMiron@jourrapide.com', 'Oriel Miron', 'F'],\n",
       "       [165, 'LianeLaGarde@cuvox.de', 'Liane La Garde', 'F'],\n",
       "       [166, 'AnastasieCroteau@rhyta.com', 'Anastasie Croteau', 'F'],\n",
       "       [167, 'VerneyCourse@armyspy.com', 'Verney Course', 'M'],\n",
       "       [168, 'VoletaAdler@armyspy.com', 'Voleta Adler', 'F'],\n",
       "       [169, 'PlattParent@jourrapide.com', 'Platt Parent', 'M'],\n",
       "       [170, 'BlondelleAilleboust@gustr.com', 'Blondelle Ailleboust',\n",
       "        'F'],\n",
       "       [171, 'AurelieDesnoyer@armyspy.com', 'Aurelie Desnoyer', 'F'],\n",
       "       [172, 'AvelaineGadbois@dayrep.com', 'Avelaine Gadbois', 'F'],\n",
       "       [173, 'BriceGrondin@fleckens.hu', 'Brice Grondin', 'M'],\n",
       "       [174, 'ZacharieDuplessis@rhyta.com', 'Zacharie Duplessis', 'M'],\n",
       "       [175, 'OgierGervais@gustr.com', 'Ogier Gervais', 'M'],\n",
       "       [176, 'FusbertaRancourt@rhyta.com', 'Fusberta Rancourt', 'F'],\n",
       "       [177, 'CamilleLaurent@superrito.com', 'Camille Laurent', 'F'],\n",
       "       [178, 'CeriseMontminy@dayrep.com', 'Cerise Montminy', 'F'],\n",
       "       [179, 'JosetteRiquier@armyspy.com', 'Josette Riquier', 'F'],\n",
       "       [180, 'AgnesBriard@cuvox.de', 'Agnes Briard', 'F'],\n",
       "       [181, 'AvrilRocheleau@fleckens.hu', 'Avril Rocheleau', 'F'],\n",
       "       [182, 'BenoitGauvin@teleworm.us', 'Benoit Gauvin', 'M'],\n",
       "       [183, 'HeloiseMarcil@fleckens.hu', 'Heloise Marcil', 'F'],\n",
       "       [184, 'RolandDupont@einrot.com', 'Roland Dupont', 'M'],\n",
       "       [185, 'SolaineLabrecque@fleckens.hu', 'Solaine Labrecque', 'F'],\n",
       "       [186, 'JulieBeauchemin@teleworm.us', 'Julie Beauchemin', 'F'],\n",
       "       [187, 'KarelDandonneau@dayrep.com', 'Karel Dandonneau', 'M'],\n",
       "       [188, 'PaienBeauchesne@rhyta.com', 'Paien Beauchesne', 'M'],\n",
       "       [189, 'AdeleClavette@cuvox.de', 'Adele Clavette', 'F'],\n",
       "       [190, 'LotyeJodion@fleckens.hu', 'Lotye Jodion', 'F'],\n",
       "       [191, 'AmaranteLacroix@fleckens.hu', 'Amarante Lacroix', 'F'],\n",
       "       [192, 'XarlesCaisse@jourrapide.com', 'Xarles Caisse', 'M'],\n",
       "       [193, 'LealaLemelin@dayrep.com', 'Leala Lemelin', 'F'],\n",
       "       [194, 'ChantalLamoureux@jourrapide.com', 'Chantal Lamoureux', 'F'],\n",
       "       [195, 'NinetteAdler@superrito.com', 'Ninette Adler', 'F'],\n",
       "       [196, 'EmmanuelleLabrie@einrot.com', 'Emmanuelle Labrie', 'F'],\n",
       "       [197, 'HuonDeLaRonde@rhyta.com', 'Huon De La Ronde', 'M'],\n",
       "       [198, 'SimoneSt-Pierre@jourrapide.com', 'Simone St- Pierre', 'F'],\n",
       "       [199, 'PeverellMazuret@dayrep.com', 'Peverell Mazuret', 'M'],\n",
       "       [200, 'LorrainePaulet@einrot.com', 'Lorraine Paulet', 'F'],\n",
       "       [201, 'DemiLazure@cuvox.de', 'Demi Lazure', 'F'],\n",
       "       [202, 'AgramantGrandpre@rhyta.com', 'Agramant Grandpre', 'M'],\n",
       "       [203, 'ClothildeBerie@teleworm.us', 'Clothilde Berie', 'F'],\n",
       "       [204, 'AimeMarseau@dayrep.com', 'Aime Marseau', 'M'],\n",
       "       [205, 'RogerDeLaRonde@gustr.com', 'Roger De La Ronde', 'M'],\n",
       "       [206, 'AiglentinaMarcheterre@superrito.com',\n",
       "        'Aiglentina Marcheterre', 'F'],\n",
       "       [207, 'NoemiLaisne@rhyta.com', 'Noemi Laisne', 'F'],\n",
       "       [208, 'DenisPatenaude@einrot.com', 'Denis Patenaude', 'M'],\n",
       "       [209, 'JulienBeriault@rhyta.com', 'Julien Beriault', 'M'],\n",
       "       [210, 'MartheQuerry@einrot.com', 'Marthe Querry', 'F'],\n",
       "       [211, 'ParfaitBedard@armyspy.com', 'Parfait Bedard', 'M'],\n",
       "       [212, 'MandelBarteaux@gustr.com', 'Mandel Barteaux', 'M'],\n",
       "       [213, 'PauletteLemaitre@fleckens.hu', 'Paulette Lemaitre', 'F'],\n",
       "       [214, 'YoletteLanoie@dayrep.com', 'Yolette Lanoie', 'F'],\n",
       "       [215, 'LucilleBaron@superrito.com', 'Lucille Baron', 'F'],\n",
       "       [216, 'ChappellSarrazin@rhyta.com', 'Chappell Sarrazin', 'M'],\n",
       "       [217, 'GanoHetu@fleckens.hu', 'Gano Hetu', 'M'],\n",
       "       [218, 'MinetteRoy@fleckens.hu', 'Minette Roy', 'F'],\n",
       "       [219, 'RoslynChalifour@cuvox.de', 'Roslyn Chalifour', 'M'],\n",
       "       [220, 'KarelBazinet@einrot.com', 'Karel Bazinet', 'M'],\n",
       "       [221, 'JosetteBordeleau@einrot.com', 'Josette Bordeleau', 'F'],\n",
       "       [222, 'LangleyCaron@armyspy.com', 'Langley Caron', 'M'],\n",
       "       [223, 'ClaudeDandonneau@jourrapide.com', 'Claude Dandonneau', 'F'],\n",
       "       [224, 'ApollineMichaud@superrito.com', 'Apolline Michaud', 'F'],\n",
       "       [225, 'PascalineBeaudry@rhyta.com', 'Pascaline Beaudry', 'F'],\n",
       "       [226, 'FleurCaouette@jourrapide.com', 'Fleur Caouette', 'F'],\n",
       "       [227, 'FrancisMasse@jourrapide.com', 'Francis Masse', 'M']],\n",
       "      dtype=object)"
      ]
     },
     "execution_count": 25,
     "metadata": {},
     "output_type": "execute_result"
    }
   ],
   "source": [
    "clients_array = data_excel.values\n",
    "clients_array"
   ]
  },
  {
   "cell_type": "code",
   "execution_count": 26,
   "id": "056609c1",
   "metadata": {},
   "outputs": [
    {
     "data": {
      "text/plain": [
       "0            LaurentDagenais@rhyta.com\n",
       "1                GuyMarois@fleckens.hu\n",
       "2            BeaufortLesage@einrot.com\n",
       "3            RussellDurand@armyspy.com\n",
       "4                 AlexisRiel@rhyta.com\n",
       "                    ...               \n",
       "223    ClaudeDandonneau@jourrapide.com\n",
       "224      ApollineMichaud@superrito.com\n",
       "225         PascalineBeaudry@rhyta.com\n",
       "226       FleurCaouette@jourrapide.com\n",
       "227        FrancisMasse@jourrapide.com\n",
       "Name: email, Length: 228, dtype: object"
      ]
     },
     "execution_count": 26,
     "metadata": {},
     "output_type": "execute_result"
    }
   ],
   "source": [
    "email = data_excel['email']\n",
    "email"
   ]
  },
  {
   "cell_type": "code",
   "execution_count": 27,
   "id": "3c3e5cb4",
   "metadata": {},
   "outputs": [
    {
     "data": {
      "text/plain": [
       "'Laurent Dagenais'"
      ]
     },
     "execution_count": 27,
     "metadata": {},
     "output_type": "execute_result"
    }
   ],
   "source": [
    "data.iloc[0,2]"
   ]
  },
  {
   "cell_type": "code",
   "execution_count": 28,
   "id": "eecddfd4",
   "metadata": {},
   "outputs": [
    {
     "data": {
      "text/html": [
       "<div>\n",
       "<style scoped>\n",
       "    .dataframe tbody tr th:only-of-type {\n",
       "        vertical-align: middle;\n",
       "    }\n",
       "\n",
       "    .dataframe tbody tr th {\n",
       "        vertical-align: top;\n",
       "    }\n",
       "\n",
       "    .dataframe thead th {\n",
       "        text-align: right;\n",
       "    }\n",
       "</style>\n",
       "<table border=\"1\" class=\"dataframe\">\n",
       "  <thead>\n",
       "    <tr style=\"text-align: right;\">\n",
       "      <th></th>\n",
       "      <th>email</th>\n",
       "      <th>nom</th>\n",
       "    </tr>\n",
       "  </thead>\n",
       "  <tbody>\n",
       "    <tr>\n",
       "      <th>0</th>\n",
       "      <td>LaurentDagenais@rhyta.com</td>\n",
       "      <td>Laurent Dagenais</td>\n",
       "    </tr>\n",
       "    <tr>\n",
       "      <th>1</th>\n",
       "      <td>GuyMarois@fleckens.hu</td>\n",
       "      <td>Guy Marois</td>\n",
       "    </tr>\n",
       "    <tr>\n",
       "      <th>2</th>\n",
       "      <td>BeaufortLesage@einrot.com</td>\n",
       "      <td>Beaufort Lesage</td>\n",
       "    </tr>\n",
       "    <tr>\n",
       "      <th>3</th>\n",
       "      <td>RussellDurand@armyspy.com</td>\n",
       "      <td>Russell Durand</td>\n",
       "    </tr>\n",
       "    <tr>\n",
       "      <th>4</th>\n",
       "      <td>AlexisRiel@rhyta.com</td>\n",
       "      <td>Alexis Riel</td>\n",
       "    </tr>\n",
       "  </tbody>\n",
       "</table>\n",
       "</div>"
      ],
      "text/plain": [
       "                       email               nom\n",
       "0  LaurentDagenais@rhyta.com  Laurent Dagenais\n",
       "1      GuyMarois@fleckens.hu        Guy Marois\n",
       "2  BeaufortLesage@einrot.com   Beaufort Lesage\n",
       "3  RussellDurand@armyspy.com    Russell Durand\n",
       "4       AlexisRiel@rhyta.com       Alexis Riel"
      ]
     },
     "execution_count": 28,
     "metadata": {},
     "output_type": "execute_result"
    }
   ],
   "source": [
    "data.iloc[:5, 1:3]"
   ]
  },
  {
   "cell_type": "code",
   "execution_count": 29,
   "id": "c94b6cb1",
   "metadata": {},
   "outputs": [
    {
     "data": {
      "text/plain": [
       "genre\n",
       "F    Aiglentina LambertAceline HughesAgate Grandboi...\n",
       "M    Laurent DagenaisGuy MaroisBeaufort LesageRusse...\n",
       "Name: nom, dtype: object"
      ]
     },
     "execution_count": 29,
     "metadata": {},
     "output_type": "execute_result"
    }
   ],
   "source": [
    "data.groupby('genre')['nom'].sum()"
   ]
  },
  {
   "cell_type": "code",
   "execution_count": 30,
   "id": "ced1de41",
   "metadata": {},
   "outputs": [],
   "source": [
    "notes = pd.read_csv('data_2/notes.csv')"
   ]
  },
  {
   "cell_type": "code",
   "execution_count": 31,
   "id": "b2e34859",
   "metadata": {},
   "outputs": [
    {
     "data": {
      "text/html": [
       "<div>\n",
       "<style scoped>\n",
       "    .dataframe tbody tr th:only-of-type {\n",
       "        vertical-align: middle;\n",
       "    }\n",
       "\n",
       "    .dataframe tbody tr th {\n",
       "        vertical-align: top;\n",
       "    }\n",
       "\n",
       "    .dataframe thead th {\n",
       "        text-align: right;\n",
       "    }\n",
       "</style>\n",
       "<table border=\"1\" class=\"dataframe\">\n",
       "  <thead>\n",
       "    <tr style=\"text-align: right;\">\n",
       "      <th></th>\n",
       "      <th>nom</th>\n",
       "      <th>matiere</th>\n",
       "      <th>note</th>\n",
       "    </tr>\n",
       "  </thead>\n",
       "  <tbody>\n",
       "    <tr>\n",
       "      <th>0</th>\n",
       "      <td>Laurent Dagenais</td>\n",
       "      <td>Français</td>\n",
       "      <td>16</td>\n",
       "    </tr>\n",
       "    <tr>\n",
       "      <th>1</th>\n",
       "      <td>Guy Marois</td>\n",
       "      <td>Français</td>\n",
       "      <td>13</td>\n",
       "    </tr>\n",
       "    <tr>\n",
       "      <th>2</th>\n",
       "      <td>Beaufort Lesage</td>\n",
       "      <td>Français</td>\n",
       "      <td>8</td>\n",
       "    </tr>\n",
       "    <tr>\n",
       "      <th>3</th>\n",
       "      <td>Russell Durand</td>\n",
       "      <td>Français</td>\n",
       "      <td>10</td>\n",
       "    </tr>\n",
       "    <tr>\n",
       "      <th>4</th>\n",
       "      <td>Alexis Riel</td>\n",
       "      <td>Français</td>\n",
       "      <td>15</td>\n",
       "    </tr>\n",
       "  </tbody>\n",
       "</table>\n",
       "</div>"
      ],
      "text/plain": [
       "                nom   matiere  note\n",
       "0  Laurent Dagenais  Français    16\n",
       "1        Guy Marois  Français    13\n",
       "2   Beaufort Lesage  Français     8\n",
       "3    Russell Durand  Français    10\n",
       "4       Alexis Riel  Français    15"
      ]
     },
     "execution_count": 31,
     "metadata": {},
     "output_type": "execute_result"
    }
   ],
   "source": [
    "notes.head()"
   ]
  },
  {
   "cell_type": "code",
   "execution_count": 32,
   "id": "0e8b7b93",
   "metadata": {},
   "outputs": [
    {
     "data": {
      "text/plain": [
       "6"
      ]
     },
     "execution_count": 32,
     "metadata": {},
     "output_type": "execute_result"
    }
   ],
   "source": [
    "moyenne = notes.groupby('nom').mean()\n",
    "moyenne.loc[moyenne['note'] < 10].shape[0]"
   ]
  },
  {
   "cell_type": "code",
   "execution_count": 33,
   "id": "edba0ef2",
   "metadata": {},
   "outputs": [],
   "source": [
    "produits = pd.read_csv('data_2/produits.csv')\n",
    "commandes = pd.read_csv('data_2/commande.csv')"
   ]
  },
  {
   "cell_type": "code",
   "execution_count": 34,
   "id": "c469ce51",
   "metadata": {},
   "outputs": [
    {
     "data": {
      "text/html": [
       "<div>\n",
       "<style scoped>\n",
       "    .dataframe tbody tr th:only-of-type {\n",
       "        vertical-align: middle;\n",
       "    }\n",
       "\n",
       "    .dataframe tbody tr th {\n",
       "        vertical-align: top;\n",
       "    }\n",
       "\n",
       "    .dataframe thead th {\n",
       "        text-align: right;\n",
       "    }\n",
       "</style>\n",
       "<table border=\"1\" class=\"dataframe\">\n",
       "  <thead>\n",
       "    <tr style=\"text-align: right;\">\n",
       "      <th></th>\n",
       "      <th>id</th>\n",
       "      <th>prix</th>\n",
       "    </tr>\n",
       "  </thead>\n",
       "  <tbody>\n",
       "    <tr>\n",
       "      <th>0</th>\n",
       "      <td>0</td>\n",
       "      <td>24.8</td>\n",
       "    </tr>\n",
       "    <tr>\n",
       "      <th>1</th>\n",
       "      <td>1</td>\n",
       "      <td>13.1</td>\n",
       "    </tr>\n",
       "    <tr>\n",
       "      <th>2</th>\n",
       "      <td>2</td>\n",
       "      <td>23.7</td>\n",
       "    </tr>\n",
       "    <tr>\n",
       "      <th>3</th>\n",
       "      <td>3</td>\n",
       "      <td>16.0</td>\n",
       "    </tr>\n",
       "    <tr>\n",
       "      <th>4</th>\n",
       "      <td>4</td>\n",
       "      <td>19.0</td>\n",
       "    </tr>\n",
       "  </tbody>\n",
       "</table>\n",
       "</div>"
      ],
      "text/plain": [
       "   id  prix\n",
       "0   0  24.8\n",
       "1   1  13.1\n",
       "2   2  23.7\n",
       "3   3  16.0\n",
       "4   4  19.0"
      ]
     },
     "execution_count": 34,
     "metadata": {},
     "output_type": "execute_result"
    }
   ],
   "source": [
    "produits.head()"
   ]
  },
  {
   "cell_type": "code",
   "execution_count": 35,
   "id": "a0a7f77b",
   "metadata": {},
   "outputs": [
    {
     "data": {
      "text/html": [
       "<div>\n",
       "<style scoped>\n",
       "    .dataframe tbody tr th:only-of-type {\n",
       "        vertical-align: middle;\n",
       "    }\n",
       "\n",
       "    .dataframe tbody tr th {\n",
       "        vertical-align: top;\n",
       "    }\n",
       "\n",
       "    .dataframe thead th {\n",
       "        text-align: right;\n",
       "    }\n",
       "</style>\n",
       "<table border=\"1\" class=\"dataframe\">\n",
       "  <thead>\n",
       "    <tr style=\"text-align: right;\">\n",
       "      <th></th>\n",
       "      <th>id</th>\n",
       "      <th>nombre</th>\n",
       "    </tr>\n",
       "  </thead>\n",
       "  <tbody>\n",
       "    <tr>\n",
       "      <th>0</th>\n",
       "      <td>70</td>\n",
       "      <td>2</td>\n",
       "    </tr>\n",
       "    <tr>\n",
       "      <th>1</th>\n",
       "      <td>41</td>\n",
       "      <td>4</td>\n",
       "    </tr>\n",
       "    <tr>\n",
       "      <th>2</th>\n",
       "      <td>72</td>\n",
       "      <td>2</td>\n",
       "    </tr>\n",
       "    <tr>\n",
       "      <th>3</th>\n",
       "      <td>92</td>\n",
       "      <td>8</td>\n",
       "    </tr>\n",
       "    <tr>\n",
       "      <th>4</th>\n",
       "      <td>73</td>\n",
       "      <td>1</td>\n",
       "    </tr>\n",
       "  </tbody>\n",
       "</table>\n",
       "</div>"
      ],
      "text/plain": [
       "   id  nombre\n",
       "0  70       2\n",
       "1  41       4\n",
       "2  72       2\n",
       "3  92       8\n",
       "4  73       1"
      ]
     },
     "execution_count": 35,
     "metadata": {},
     "output_type": "execute_result"
    }
   ],
   "source": [
    "commandes.head()"
   ]
  },
  {
   "cell_type": "code",
   "execution_count": 36,
   "id": "6292112f",
   "metadata": {},
   "outputs": [
    {
     "data": {
      "text/plain": [
       "id\n",
       "58      6\n",
       "28     15\n",
       "62     20\n",
       "92     20\n",
       "29     21\n",
       "     ... \n",
       "30     89\n",
       "84     91\n",
       "65     96\n",
       "35     98\n",
       "8     103\n",
       "Name: nombre, Length: 100, dtype: int64"
      ]
     },
     "execution_count": 36,
     "metadata": {},
     "output_type": "execute_result"
    }
   ],
   "source": [
    "total = pd.merge(produits, commandes, on='id', how='left')\n",
    "total = total.groupby('id')['nombre'].sum().sort_values()\n",
    "total"
   ]
  },
  {
   "cell_type": "code",
   "execution_count": 37,
   "id": "6f1d63b4",
   "metadata": {},
   "outputs": [
    {
     "data": {
      "text/html": [
       "<div>\n",
       "<style scoped>\n",
       "    .dataframe tbody tr th:only-of-type {\n",
       "        vertical-align: middle;\n",
       "    }\n",
       "\n",
       "    .dataframe tbody tr th {\n",
       "        vertical-align: top;\n",
       "    }\n",
       "\n",
       "    .dataframe thead th {\n",
       "        text-align: right;\n",
       "    }\n",
       "</style>\n",
       "<table border=\"1\" class=\"dataframe\">\n",
       "  <thead>\n",
       "    <tr style=\"text-align: right;\">\n",
       "      <th></th>\n",
       "      <th>id</th>\n",
       "      <th>prix</th>\n",
       "      <th>nombre</th>\n",
       "      <th>ca</th>\n",
       "    </tr>\n",
       "  </thead>\n",
       "  <tbody>\n",
       "    <tr>\n",
       "      <th>58</th>\n",
       "      <td>58</td>\n",
       "      <td>23.8</td>\n",
       "      <td>6</td>\n",
       "      <td>142.8</td>\n",
       "    </tr>\n",
       "    <tr>\n",
       "      <th>92</th>\n",
       "      <td>92</td>\n",
       "      <td>7.4</td>\n",
       "      <td>20</td>\n",
       "      <td>148.0</td>\n",
       "    </tr>\n",
       "    <tr>\n",
       "      <th>63</th>\n",
       "      <td>63</td>\n",
       "      <td>8.5</td>\n",
       "      <td>22</td>\n",
       "      <td>187.0</td>\n",
       "    </tr>\n",
       "    <tr>\n",
       "      <th>29</th>\n",
       "      <td>29</td>\n",
       "      <td>10.8</td>\n",
       "      <td>21</td>\n",
       "      <td>226.8</td>\n",
       "    </tr>\n",
       "    <tr>\n",
       "      <th>62</th>\n",
       "      <td>62</td>\n",
       "      <td>13.0</td>\n",
       "      <td>20</td>\n",
       "      <td>260.0</td>\n",
       "    </tr>\n",
       "    <tr>\n",
       "      <th>...</th>\n",
       "      <td>...</td>\n",
       "      <td>...</td>\n",
       "      <td>...</td>\n",
       "      <td>...</td>\n",
       "    </tr>\n",
       "    <tr>\n",
       "      <th>27</th>\n",
       "      <td>27</td>\n",
       "      <td>24.5</td>\n",
       "      <td>86</td>\n",
       "      <td>2107.0</td>\n",
       "    </tr>\n",
       "    <tr>\n",
       "      <th>19</th>\n",
       "      <td>19</td>\n",
       "      <td>31.6</td>\n",
       "      <td>67</td>\n",
       "      <td>2117.2</td>\n",
       "    </tr>\n",
       "    <tr>\n",
       "      <th>30</th>\n",
       "      <td>30</td>\n",
       "      <td>24.9</td>\n",
       "      <td>89</td>\n",
       "      <td>2216.1</td>\n",
       "    </tr>\n",
       "    <tr>\n",
       "      <th>65</th>\n",
       "      <td>65</td>\n",
       "      <td>26.3</td>\n",
       "      <td>96</td>\n",
       "      <td>2524.8</td>\n",
       "    </tr>\n",
       "    <tr>\n",
       "      <th>8</th>\n",
       "      <td>8</td>\n",
       "      <td>25.6</td>\n",
       "      <td>103</td>\n",
       "      <td>2636.8</td>\n",
       "    </tr>\n",
       "  </tbody>\n",
       "</table>\n",
       "<p>100 rows × 4 columns</p>\n",
       "</div>"
      ],
      "text/plain": [
       "    id  prix  nombre      ca\n",
       "58  58  23.8       6   142.8\n",
       "92  92   7.4      20   148.0\n",
       "63  63   8.5      22   187.0\n",
       "29  29  10.8      21   226.8\n",
       "62  62  13.0      20   260.0\n",
       "..  ..   ...     ...     ...\n",
       "27  27  24.5      86  2107.0\n",
       "19  19  31.6      67  2117.2\n",
       "30  30  24.9      89  2216.1\n",
       "65  65  26.3      96  2524.8\n",
       "8    8  25.6     103  2636.8\n",
       "\n",
       "[100 rows x 4 columns]"
      ]
     },
     "execution_count": 37,
     "metadata": {},
     "output_type": "execute_result"
    }
   ],
   "source": [
    "total2 = pd.merge(produits, total, on = 'id', how='left')\n",
    "total2['ca'] = total2['prix']*total2['nombre']\n",
    "total2.sort_values(by=['ca'])"
   ]
  },
  {
   "cell_type": "markdown",
   "id": "f6a9c9ea",
   "metadata": {},
   "source": [
    "# 3 Matplotlib"
   ]
  },
  {
   "cell_type": "code",
   "execution_count": 38,
   "id": "524bde95",
   "metadata": {},
   "outputs": [],
   "source": [
    "import matplotlib.pyplot as plt"
   ]
  },
  {
   "cell_type": "code",
   "execution_count": 39,
   "id": "cc40bad4",
   "metadata": {},
   "outputs": [],
   "source": [
    "prets = pd.read_csv('https://raw.githubusercontent.com/OpenClassrooms-Student-Center/fr-4452741-decouvrez-les-librairies-python-pour-la-data-science/main/data/prets.csv')"
   ]
  },
  {
   "cell_type": "code",
   "execution_count": 40,
   "id": "c84f2649",
   "metadata": {},
   "outputs": [
    {
     "data": {
      "text/html": [
       "<div>\n",
       "<style scoped>\n",
       "    .dataframe tbody tr th:only-of-type {\n",
       "        vertical-align: middle;\n",
       "    }\n",
       "\n",
       "    .dataframe tbody tr th {\n",
       "        vertical-align: top;\n",
       "    }\n",
       "\n",
       "    .dataframe thead th {\n",
       "        text-align: right;\n",
       "    }\n",
       "</style>\n",
       "<table border=\"1\" class=\"dataframe\">\n",
       "  <thead>\n",
       "    <tr style=\"text-align: right;\">\n",
       "      <th></th>\n",
       "      <th>identifiant</th>\n",
       "      <th>ville</th>\n",
       "      <th>CP</th>\n",
       "      <th>revenu</th>\n",
       "      <th>remboursement</th>\n",
       "      <th>duree</th>\n",
       "      <th>type</th>\n",
       "      <th>taux</th>\n",
       "    </tr>\n",
       "  </thead>\n",
       "  <tbody>\n",
       "    <tr>\n",
       "      <th>0</th>\n",
       "      <td>0</td>\n",
       "      <td>TOULOUSE</td>\n",
       "      <td>31100</td>\n",
       "      <td>3669.0</td>\n",
       "      <td>1130.05</td>\n",
       "      <td>240</td>\n",
       "      <td>immobilier</td>\n",
       "      <td>1.168</td>\n",
       "    </tr>\n",
       "    <tr>\n",
       "      <th>1</th>\n",
       "      <td>1</td>\n",
       "      <td>PARIS</td>\n",
       "      <td>75009</td>\n",
       "      <td>5310.0</td>\n",
       "      <td>240.00</td>\n",
       "      <td>64</td>\n",
       "      <td>automobile</td>\n",
       "      <td>3.701</td>\n",
       "    </tr>\n",
       "    <tr>\n",
       "      <th>2</th>\n",
       "      <td>1</td>\n",
       "      <td>PARIS</td>\n",
       "      <td>75009</td>\n",
       "      <td>5310.0</td>\n",
       "      <td>1247.85</td>\n",
       "      <td>300</td>\n",
       "      <td>immobilier</td>\n",
       "      <td>1.173</td>\n",
       "    </tr>\n",
       "    <tr>\n",
       "      <th>3</th>\n",
       "      <td>2</td>\n",
       "      <td>MARSEILLE</td>\n",
       "      <td>13010</td>\n",
       "      <td>1873.0</td>\n",
       "      <td>552.54</td>\n",
       "      <td>240</td>\n",
       "      <td>immobilier</td>\n",
       "      <td>0.972</td>\n",
       "    </tr>\n",
       "    <tr>\n",
       "      <th>4</th>\n",
       "      <td>3</td>\n",
       "      <td>MARSEILLE</td>\n",
       "      <td>13010</td>\n",
       "      <td>1684.0</td>\n",
       "      <td>586.03</td>\n",
       "      <td>180</td>\n",
       "      <td>immobilier</td>\n",
       "      <td>1.014</td>\n",
       "    </tr>\n",
       "    <tr>\n",
       "      <th>...</th>\n",
       "      <td>...</td>\n",
       "      <td>...</td>\n",
       "      <td>...</td>\n",
       "      <td>...</td>\n",
       "      <td>...</td>\n",
       "      <td>...</td>\n",
       "      <td>...</td>\n",
       "      <td>...</td>\n",
       "    </tr>\n",
       "    <tr>\n",
       "      <th>239</th>\n",
       "      <td>224</td>\n",
       "      <td>PARIS</td>\n",
       "      <td>75008</td>\n",
       "      <td>5118.0</td>\n",
       "      <td>1248.79</td>\n",
       "      <td>300</td>\n",
       "      <td>immobilier</td>\n",
       "      <td>1.206</td>\n",
       "    </tr>\n",
       "    <tr>\n",
       "      <th>240</th>\n",
       "      <td>224</td>\n",
       "      <td>PARIS</td>\n",
       "      <td>75008</td>\n",
       "      <td>5118.0</td>\n",
       "      <td>238.20</td>\n",
       "      <td>25</td>\n",
       "      <td>automobile</td>\n",
       "      <td>3.423</td>\n",
       "    </tr>\n",
       "    <tr>\n",
       "      <th>241</th>\n",
       "      <td>225</td>\n",
       "      <td>BORDEAUX</td>\n",
       "      <td>33100</td>\n",
       "      <td>2356.0</td>\n",
       "      <td>876.43</td>\n",
       "      <td>180</td>\n",
       "      <td>immobilier</td>\n",
       "      <td>1.172</td>\n",
       "    </tr>\n",
       "    <tr>\n",
       "      <th>242</th>\n",
       "      <td>226</td>\n",
       "      <td>PARIS</td>\n",
       "      <td>75002</td>\n",
       "      <td>5098.0</td>\n",
       "      <td>2910.96</td>\n",
       "      <td>240</td>\n",
       "      <td>immobilier</td>\n",
       "      <td>1.140</td>\n",
       "    </tr>\n",
       "    <tr>\n",
       "      <th>243</th>\n",
       "      <td>227</td>\n",
       "      <td>PARIS</td>\n",
       "      <td>75015</td>\n",
       "      <td>2348.0</td>\n",
       "      <td>434.38</td>\n",
       "      <td>300</td>\n",
       "      <td>immobilier</td>\n",
       "      <td>1.157</td>\n",
       "    </tr>\n",
       "  </tbody>\n",
       "</table>\n",
       "<p>244 rows × 8 columns</p>\n",
       "</div>"
      ],
      "text/plain": [
       "     identifiant      ville     CP  revenu  remboursement  duree        type  \\\n",
       "0              0   TOULOUSE  31100  3669.0        1130.05    240  immobilier   \n",
       "1              1      PARIS  75009  5310.0         240.00     64  automobile   \n",
       "2              1      PARIS  75009  5310.0        1247.85    300  immobilier   \n",
       "3              2  MARSEILLE  13010  1873.0         552.54    240  immobilier   \n",
       "4              3  MARSEILLE  13010  1684.0         586.03    180  immobilier   \n",
       "..           ...        ...    ...     ...            ...    ...         ...   \n",
       "239          224      PARIS  75008  5118.0        1248.79    300  immobilier   \n",
       "240          224      PARIS  75008  5118.0         238.20     25  automobile   \n",
       "241          225   BORDEAUX  33100  2356.0         876.43    180  immobilier   \n",
       "242          226      PARIS  75002  5098.0        2910.96    240  immobilier   \n",
       "243          227      PARIS  75015  2348.0         434.38    300  immobilier   \n",
       "\n",
       "      taux  \n",
       "0    1.168  \n",
       "1    3.701  \n",
       "2    1.173  \n",
       "3    0.972  \n",
       "4    1.014  \n",
       "..     ...  \n",
       "239  1.206  \n",
       "240  3.423  \n",
       "241  1.172  \n",
       "242  1.140  \n",
       "243  1.157  \n",
       "\n",
       "[244 rows x 8 columns]"
      ]
     },
     "execution_count": 40,
     "metadata": {},
     "output_type": "execute_result"
    }
   ],
   "source": [
    "prets"
   ]
  },
  {
   "cell_type": "code",
   "execution_count": 41,
   "id": "706d895b",
   "metadata": {},
   "outputs": [
    {
     "data": {
      "text/plain": [
       "<matplotlib.collections.PathCollection at 0x7fa860d88b80>"
      ]
     },
     "execution_count": 41,
     "metadata": {},
     "output_type": "execute_result"
    },
    {
     "data": {
      "image/png": "[encoded data removed]",
      "text/plain": [
       "<Figure size 640x480 with 1 Axes>"
      ]
     },
     "metadata": {},
     "output_type": "display_data"
    }
   ],
   "source": [
    "plt.scatter(prets['revenu'], prets['remboursement'])"
   ]
  },
  {
   "cell_type": "code",
   "execution_count": 42,
   "id": "7bdc3563",
   "metadata": {},
   "outputs": [],
   "source": [
    "df1 = prets.loc[prets['ville'] == 'TOULOUSE', :]\n",
    "df2 = prets.loc[prets['ville'] == 'PARIS', :]"
   ]
  },
  {
   "cell_type": "code",
   "execution_count": 43,
   "id": "a46ac158",
   "metadata": {},
   "outputs": [
    {
     "data": {
      "image/png": "[encoded data removed]",
      "text/plain": [
       "<Figure size 640x480 with 1 Axes>"
      ]
     },
     "metadata": {},
     "output_type": "display_data"
    }
   ],
   "source": [
    "plt.scatter(df1['revenu'], df1['taux'], label = 'Toulouse')\n",
    "plt.scatter(df2['revenu'], df2['taux'], label = 'Paris')\n",
    "plt.legend()\n",
    "plt.show()"
   ]
  },
  {
   "cell_type": "code",
   "execution_count": 87,
   "id": "0c8a04d0",
   "metadata": {},
   "outputs": [
    {
     "data": {
      "image/png": "[encoded data removed]",
      "text/plain": [
       "<Figure size 640x480 with 1 Axes>"
      ]
     },
     "metadata": {},
     "output_type": "display_data"
    }
   ],
   "source": [
    "for ville in prets['ville'].unique():\n",
    "    df = prets.loc[prets['ville'] == ville, :]\n",
    "    plt.scatter(df['revenu'], df['taux'], label = ville)\n",
    "\n",
    "plt.legend()\n",
    "plt.show()"
   ]
  },
  {
   "cell_type": "code",
   "execution_count": 44,
   "id": "1717e2fd",
   "metadata": {},
   "outputs": [],
   "source": [
    "data_agg = prets.groupby('ville')['remboursement'].sum().reset_index()"
   ]
  },
  {
   "cell_type": "code",
   "execution_count": 45,
   "id": "6054ec04",
   "metadata": {},
   "outputs": [
    {
     "data": {
      "text/html": [
       "<div>\n",
       "<style scoped>\n",
       "    .dataframe tbody tr th:only-of-type {\n",
       "        vertical-align: middle;\n",
       "    }\n",
       "\n",
       "    .dataframe tbody tr th {\n",
       "        vertical-align: top;\n",
       "    }\n",
       "\n",
       "    .dataframe thead th {\n",
       "        text-align: right;\n",
       "    }\n",
       "</style>\n",
       "<table border=\"1\" class=\"dataframe\">\n",
       "  <thead>\n",
       "    <tr style=\"text-align: right;\">\n",
       "      <th></th>\n",
       "      <th>ville</th>\n",
       "      <th>remboursement</th>\n",
       "    </tr>\n",
       "  </thead>\n",
       "  <tbody>\n",
       "    <tr>\n",
       "      <th>0</th>\n",
       "      <td>BORDEAUX</td>\n",
       "      <td>15330.59</td>\n",
       "    </tr>\n",
       "    <tr>\n",
       "      <th>1</th>\n",
       "      <td>LYON</td>\n",
       "      <td>26064.67</td>\n",
       "    </tr>\n",
       "    <tr>\n",
       "      <th>2</th>\n",
       "      <td>MARSEILLE</td>\n",
       "      <td>40895.72</td>\n",
       "    </tr>\n",
       "    <tr>\n",
       "      <th>3</th>\n",
       "      <td>NICE</td>\n",
       "      <td>23544.24</td>\n",
       "    </tr>\n",
       "    <tr>\n",
       "      <th>4</th>\n",
       "      <td>PARIS</td>\n",
       "      <td>94052.61</td>\n",
       "    </tr>\n",
       "    <tr>\n",
       "      <th>5</th>\n",
       "      <td>TOULOUSE</td>\n",
       "      <td>19286.18</td>\n",
       "    </tr>\n",
       "  </tbody>\n",
       "</table>\n",
       "</div>"
      ],
      "text/plain": [
       "       ville  remboursement\n",
       "0   BORDEAUX       15330.59\n",
       "1       LYON       26064.67\n",
       "2  MARSEILLE       40895.72\n",
       "3       NICE       23544.24\n",
       "4      PARIS       94052.61\n",
       "5   TOULOUSE       19286.18"
      ]
     },
     "execution_count": 45,
     "metadata": {},
     "output_type": "execute_result"
    }
   ],
   "source": [
    "data_agg"
   ]
  },
  {
   "cell_type": "code",
   "execution_count": 68,
   "id": "bfc18cf9",
   "metadata": {},
   "outputs": [
    {
     "data": {
      "image/png": "[encoded data removed]",
      "text/plain": [
       "<Figure size 1000x600 with 1 Axes>"
      ]
     },
     "metadata": {},
     "output_type": "display_data"
    }
   ],
   "source": [
    "plt.figure(figsize=(10,6))\n",
    "plt.bar(data_agg['ville'], data_agg['remboursement'])\n",
    "plt.title('CA par agence', fontname='Arial', fontsize='25')\n",
    "plt.xlabel('agences')\n",
    "plt.ylabel('CA (en €)')\n",
    "plt.grid(axis = 'y')\n",
    "plt.ylim(0, 100000)\n",
    "\n",
    "ca = data_agg['remboursement'].tolist()\n",
    "\n",
    "for i in range(6):\n",
    "    plt.text(i - 0.2, ca[i] + 1000, round(ca[i], 1))\n",
    "plt.show()"
   ]
  },
  {
   "cell_type": "markdown",
   "id": "f36822dc",
   "metadata": {},
   "source": [
    "# 4 Seaborn"
   ]
  },
  {
   "cell_type": "code",
   "execution_count": 71,
   "id": "26a154e0",
   "metadata": {},
   "outputs": [],
   "source": [
    "import seaborn as sns"
   ]
  },
  {
   "cell_type": "code",
   "execution_count": 72,
   "id": "58dae617",
   "metadata": {},
   "outputs": [
    {
     "data": {
      "text/html": [
       "<div>\n",
       "<style scoped>\n",
       "    .dataframe tbody tr th:only-of-type {\n",
       "        vertical-align: middle;\n",
       "    }\n",
       "\n",
       "    .dataframe tbody tr th {\n",
       "        vertical-align: top;\n",
       "    }\n",
       "\n",
       "    .dataframe thead th {\n",
       "        text-align: right;\n",
       "    }\n",
       "</style>\n",
       "<table border=\"1\" class=\"dataframe\">\n",
       "  <thead>\n",
       "    <tr style=\"text-align: right;\">\n",
       "      <th></th>\n",
       "      <th>identifiant</th>\n",
       "      <th>ville</th>\n",
       "      <th>CP</th>\n",
       "      <th>revenu</th>\n",
       "      <th>remboursement</th>\n",
       "      <th>duree</th>\n",
       "      <th>type</th>\n",
       "      <th>taux</th>\n",
       "    </tr>\n",
       "  </thead>\n",
       "  <tbody>\n",
       "    <tr>\n",
       "      <th>0</th>\n",
       "      <td>0</td>\n",
       "      <td>TOULOUSE</td>\n",
       "      <td>31100</td>\n",
       "      <td>3669.0</td>\n",
       "      <td>1130.05</td>\n",
       "      <td>240</td>\n",
       "      <td>immobilier</td>\n",
       "      <td>1.168</td>\n",
       "    </tr>\n",
       "    <tr>\n",
       "      <th>1</th>\n",
       "      <td>1</td>\n",
       "      <td>PARIS</td>\n",
       "      <td>75009</td>\n",
       "      <td>5310.0</td>\n",
       "      <td>240.00</td>\n",
       "      <td>64</td>\n",
       "      <td>automobile</td>\n",
       "      <td>3.701</td>\n",
       "    </tr>\n",
       "    <tr>\n",
       "      <th>2</th>\n",
       "      <td>1</td>\n",
       "      <td>PARIS</td>\n",
       "      <td>75009</td>\n",
       "      <td>5310.0</td>\n",
       "      <td>1247.85</td>\n",
       "      <td>300</td>\n",
       "      <td>immobilier</td>\n",
       "      <td>1.173</td>\n",
       "    </tr>\n",
       "    <tr>\n",
       "      <th>3</th>\n",
       "      <td>2</td>\n",
       "      <td>MARSEILLE</td>\n",
       "      <td>13010</td>\n",
       "      <td>1873.0</td>\n",
       "      <td>552.54</td>\n",
       "      <td>240</td>\n",
       "      <td>immobilier</td>\n",
       "      <td>0.972</td>\n",
       "    </tr>\n",
       "    <tr>\n",
       "      <th>4</th>\n",
       "      <td>3</td>\n",
       "      <td>MARSEILLE</td>\n",
       "      <td>13010</td>\n",
       "      <td>1684.0</td>\n",
       "      <td>586.03</td>\n",
       "      <td>180</td>\n",
       "      <td>immobilier</td>\n",
       "      <td>1.014</td>\n",
       "    </tr>\n",
       "    <tr>\n",
       "      <th>...</th>\n",
       "      <td>...</td>\n",
       "      <td>...</td>\n",
       "      <td>...</td>\n",
       "      <td>...</td>\n",
       "      <td>...</td>\n",
       "      <td>...</td>\n",
       "      <td>...</td>\n",
       "      <td>...</td>\n",
       "    </tr>\n",
       "    <tr>\n",
       "      <th>239</th>\n",
       "      <td>224</td>\n",
       "      <td>PARIS</td>\n",
       "      <td>75008</td>\n",
       "      <td>5118.0</td>\n",
       "      <td>1248.79</td>\n",
       "      <td>300</td>\n",
       "      <td>immobilier</td>\n",
       "      <td>1.206</td>\n",
       "    </tr>\n",
       "    <tr>\n",
       "      <th>240</th>\n",
       "      <td>224</td>\n",
       "      <td>PARIS</td>\n",
       "      <td>75008</td>\n",
       "      <td>5118.0</td>\n",
       "      <td>238.20</td>\n",
       "      <td>25</td>\n",
       "      <td>automobile</td>\n",
       "      <td>3.423</td>\n",
       "    </tr>\n",
       "    <tr>\n",
       "      <th>241</th>\n",
       "      <td>225</td>\n",
       "      <td>BORDEAUX</td>\n",
       "      <td>33100</td>\n",
       "      <td>2356.0</td>\n",
       "      <td>876.43</td>\n",
       "      <td>180</td>\n",
       "      <td>immobilier</td>\n",
       "      <td>1.172</td>\n",
       "    </tr>\n",
       "    <tr>\n",
       "      <th>242</th>\n",
       "      <td>226</td>\n",
       "      <td>PARIS</td>\n",
       "      <td>75002</td>\n",
       "      <td>5098.0</td>\n",
       "      <td>2910.96</td>\n",
       "      <td>240</td>\n",
       "      <td>immobilier</td>\n",
       "      <td>1.140</td>\n",
       "    </tr>\n",
       "    <tr>\n",
       "      <th>243</th>\n",
       "      <td>227</td>\n",
       "      <td>PARIS</td>\n",
       "      <td>75015</td>\n",
       "      <td>2348.0</td>\n",
       "      <td>434.38</td>\n",
       "      <td>300</td>\n",
       "      <td>immobilier</td>\n",
       "      <td>1.157</td>\n",
       "    </tr>\n",
       "  </tbody>\n",
       "</table>\n",
       "<p>244 rows × 8 columns</p>\n",
       "</div>"
      ],
      "text/plain": [
       "     identifiant      ville     CP  revenu  remboursement  duree        type  \\\n",
       "0              0   TOULOUSE  31100  3669.0        1130.05    240  immobilier   \n",
       "1              1      PARIS  75009  5310.0         240.00     64  automobile   \n",
       "2              1      PARIS  75009  5310.0        1247.85    300  immobilier   \n",
       "3              2  MARSEILLE  13010  1873.0         552.54    240  immobilier   \n",
       "4              3  MARSEILLE  13010  1684.0         586.03    180  immobilier   \n",
       "..           ...        ...    ...     ...            ...    ...         ...   \n",
       "239          224      PARIS  75008  5118.0        1248.79    300  immobilier   \n",
       "240          224      PARIS  75008  5118.0         238.20     25  automobile   \n",
       "241          225   BORDEAUX  33100  2356.0         876.43    180  immobilier   \n",
       "242          226      PARIS  75002  5098.0        2910.96    240  immobilier   \n",
       "243          227      PARIS  75015  2348.0         434.38    300  immobilier   \n",
       "\n",
       "      taux  \n",
       "0    1.168  \n",
       "1    3.701  \n",
       "2    1.173  \n",
       "3    0.972  \n",
       "4    1.014  \n",
       "..     ...  \n",
       "239  1.206  \n",
       "240  3.423  \n",
       "241  1.172  \n",
       "242  1.140  \n",
       "243  1.157  \n",
       "\n",
       "[244 rows x 8 columns]"
      ]
     },
     "execution_count": 72,
     "metadata": {},
     "output_type": "execute_result"
    }
   ],
   "source": [
    "prets"
   ]
  },
  {
   "cell_type": "code",
   "execution_count": 77,
   "id": "f787289f",
   "metadata": {},
   "outputs": [
    {
     "data": {
      "image/png": "[encoded data removed]",
      "text/plain": [
       "<Figure size 640x480 with 1 Axes>"
      ]
     },
     "metadata": {},
     "output_type": "display_data"
    }
   ],
   "source": [
    "sns.scatterplot(data = prets, x='revenu', y = 'remboursement', hue = 'type')\n",
    "plt.grid(axis = 'y')"
   ]
  },
  {
   "cell_type": "code",
   "execution_count": 78,
   "id": "f8e8e6e7",
   "metadata": {},
   "outputs": [
    {
     "data": {
      "image/png": "[encoded data removed]",
      "text/plain": [
       "<Figure size 640x480 with 1 Axes>"
      ]
     },
     "metadata": {},
     "output_type": "display_data"
    }
   ],
   "source": [
    "dates = pd.to_datetime(['2021-01-01', '2021-05-01', '2021-09-01', '2022-01-01'])\n",
    "\n",
    "# création de 3 listes Y1, Y2 et Y3\n",
    "Y1 = [120, 560, 1760, 1860]\n",
    "Y2 = [300, 365, 100, 490]\n",
    "Y3 = [300, 790, 1130, 1400]\n",
    "\n",
    "plt.figure()\n",
    "plt.plot(dates, Y1, label='a')\n",
    "plt.plot(dates, Y2, label='b')\n",
    "plt.plot(dates, Y3, label='c')\n",
    "plt.legend()\n",
    "plt.show()"
   ]
  },
  {
   "cell_type": "code",
   "execution_count": 79,
   "id": "a672eb58",
   "metadata": {},
   "outputs": [],
   "source": [
    "iris = sns.load_dataset('iris')"
   ]
  },
  {
   "cell_type": "code",
   "execution_count": 80,
   "id": "b9550f9f",
   "metadata": {},
   "outputs": [
    {
     "data": {
      "text/html": [
       "<div>\n",
       "<style scoped>\n",
       "    .dataframe tbody tr th:only-of-type {\n",
       "        vertical-align: middle;\n",
       "    }\n",
       "\n",
       "    .dataframe tbody tr th {\n",
       "        vertical-align: top;\n",
       "    }\n",
       "\n",
       "    .dataframe thead th {\n",
       "        text-align: right;\n",
       "    }\n",
       "</style>\n",
       "<table border=\"1\" class=\"dataframe\">\n",
       "  <thead>\n",
       "    <tr style=\"text-align: right;\">\n",
       "      <th></th>\n",
       "      <th>sepal_length</th>\n",
       "      <th>sepal_width</th>\n",
       "      <th>petal_length</th>\n",
       "      <th>petal_width</th>\n",
       "      <th>species</th>\n",
       "    </tr>\n",
       "  </thead>\n",
       "  <tbody>\n",
       "    <tr>\n",
       "      <th>0</th>\n",
       "      <td>5.1</td>\n",
       "      <td>3.5</td>\n",
       "      <td>1.4</td>\n",
       "      <td>0.2</td>\n",
       "      <td>setosa</td>\n",
       "    </tr>\n",
       "    <tr>\n",
       "      <th>1</th>\n",
       "      <td>4.9</td>\n",
       "      <td>3.0</td>\n",
       "      <td>1.4</td>\n",
       "      <td>0.2</td>\n",
       "      <td>setosa</td>\n",
       "    </tr>\n",
       "    <tr>\n",
       "      <th>2</th>\n",
       "      <td>4.7</td>\n",
       "      <td>3.2</td>\n",
       "      <td>1.3</td>\n",
       "      <td>0.2</td>\n",
       "      <td>setosa</td>\n",
       "    </tr>\n",
       "    <tr>\n",
       "      <th>3</th>\n",
       "      <td>4.6</td>\n",
       "      <td>3.1</td>\n",
       "      <td>1.5</td>\n",
       "      <td>0.2</td>\n",
       "      <td>setosa</td>\n",
       "    </tr>\n",
       "    <tr>\n",
       "      <th>4</th>\n",
       "      <td>5.0</td>\n",
       "      <td>3.6</td>\n",
       "      <td>1.4</td>\n",
       "      <td>0.2</td>\n",
       "      <td>setosa</td>\n",
       "    </tr>\n",
       "  </tbody>\n",
       "</table>\n",
       "</div>"
      ],
      "text/plain": [
       "   sepal_length  sepal_width  petal_length  petal_width species\n",
       "0           5.1          3.5           1.4          0.2  setosa\n",
       "1           4.9          3.0           1.4          0.2  setosa\n",
       "2           4.7          3.2           1.3          0.2  setosa\n",
       "3           4.6          3.1           1.5          0.2  setosa\n",
       "4           5.0          3.6           1.4          0.2  setosa"
      ]
     },
     "execution_count": 80,
     "metadata": {},
     "output_type": "execute_result"
    }
   ],
   "source": [
    "iris.head()"
   ]
  },
  {
   "cell_type": "code",
   "execution_count": 81,
   "id": "ddbe4ef4",
   "metadata": {},
   "outputs": [
    {
     "data": {
      "text/plain": [
       "<Axes: xlabel='sepal_length', ylabel='sepal_width'>"
      ]
     },
     "execution_count": 81,
     "metadata": {},
     "output_type": "execute_result"
    },
    {
     "data": {
      "image/png": "[encoded data removed]",
      "text/plain": [
       "<Figure size 640x480 with 1 Axes>"
      ]
     },
     "metadata": {},
     "output_type": "display_data"
    }
   ],
   "source": [
    "sns.scatterplot(data=iris, x='sepal_length', y='sepal_width', hue='species')"
   ]
  },
  {
   "cell_type": "code",
   "execution_count": 82,
   "id": "d5c34b2f",
   "metadata": {},
   "outputs": [
    {
     "name": "stderr",
     "output_type": "stream",
     "text": [
      "/var/folders/f7/1t0gd_nj48d85_3rv7fqxdbh0000gn/T/ipykernel_45569/672920772.py:1: FutureWarning: \n",
      "\n",
      "The `ci` parameter is deprecated. Use `errorbar=None` for the same effect.\n",
      "\n",
      "  sns.barplot(data=iris, x='species', y='petal_width', ci=None, estimator=np.mean)\n"
     ]
    },
    {
     "data": {
      "text/plain": [
       "<Axes: xlabel='species', ylabel='petal_width'>"
      ]
     },
     "execution_count": 82,
     "metadata": {},
     "output_type": "execute_result"
    },
    {
     "data": {
      "image/png": "[encoded data removed]",
      "text/plain": [
       "<Figure size 640x480 with 1 Axes>"
      ]
     },
     "metadata": {},
     "output_type": "display_data"
    }
   ],
   "source": [
    "sns.barplot(data=iris, x='species', y='petal_width', ci=None, estimator=np.mean)\n"
   ]
  },
  {
   "cell_type": "code",
   "execution_count": 83,
   "id": "6f82bb4e",
   "metadata": {},
   "outputs": [],
   "source": [
    "mpg = sns.load_dataset('mpg')\n"
   ]
  },
  {
   "cell_type": "code",
   "execution_count": 87,
   "id": "6b157636",
   "metadata": {},
   "outputs": [
    {
     "data": {
      "text/plain": [
       "([<matplotlib.patches.Wedge at 0x7fa849a422e0>,\n",
       "  <matplotlib.patches.Wedge at 0x7fa849a421c0>,\n",
       "  <matplotlib.patches.Wedge at 0x7fa849a42f70>],\n",
       " [Text(-0.42295633254055504, 1.015434853037773, 'usa'),\n",
       "  Text(-0.1729356138822676, -1.0863209808574827, 'japan'),\n",
       "  Text(0.93631267527795, -0.5773374871891209, 'europe')],\n",
       " [Text(-0.23070345411303, 0.5538735562024215, '62.6%'),\n",
       "  Text(-0.09432851666305504, -0.5925387168313542, '19.8%'),\n",
       "  Text(0.5107160046970636, -0.3149113566486114, '17.6%')])"
      ]
     },
     "execution_count": 87,
     "metadata": {},
     "output_type": "execute_result"
    },
    {
     "data": {
      "image/png": "[encoded data removed]",
      "text/plain": [
       "<Figure size 640x480 with 1 Axes>"
      ]
     },
     "metadata": {},
     "output_type": "display_data"
    }
   ],
   "source": [
    "\n",
    "origin_count = mpg['origin'].value_counts().reset_index()\n",
    "plt.pie(labels=origin_count['index'], x=origin_count['origin'], autopct='%.1f%%')"
   ]
  },
  {
   "cell_type": "markdown",
   "id": "05ab870c",
   "metadata": {},
   "source": [
    "# 5 Commandes Terminal"
   ]
  },
  {
   "cell_type": "code",
   "execution_count": null,
   "id": "457de755",
   "metadata": {},
   "outputs": [],
   "source": []
  }
 ],
 "metadata": {
  "kernelspec": {
   "display_name": "Python 3 (ipykernel)",
   "language": "python",
   "name": "python3"
  },
  "language_info": {
   "codemirror_mode": {
    "name": "ipython",
    "version": 3
   },
   "file_extension": ".py",
   "mimetype": "text/x-python",
   "name": "python",
   "nbconvert_exporter": "python",
   "pygments_lexer": "ipython3",
   "version": "3.9.16"
  }
 },
 "nbformat": 4,
 "nbformat_minor": 5
}
