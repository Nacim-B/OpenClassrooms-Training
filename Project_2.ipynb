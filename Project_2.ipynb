{
 "cells": [
  {
   "cell_type": "markdown",
   "id": "3ef4761f",
   "metadata": {},
   "source": [
    "# 1 Numpy"
   ]
  },
  {
   "cell_type": "code",
   "execution_count": 2,
   "id": "91801134",
   "metadata": {},
   "outputs": [],
   "source": [
    "import numpy as np"
   ]
  },
  {
   "cell_type": "code",
   "execution_count": 4,
   "id": "53b1f289",
   "metadata": {},
   "outputs": [],
   "source": [
    "revenus = [1222, 2000, 3000, 4000]\n",
    "revenus_array = np.array(revenus)"
   ]
  },
  {
   "cell_type": "code",
   "execution_count": 5,
   "id": "1be021b7",
   "metadata": {},
   "outputs": [
    {
     "data": {
      "text/plain": [
       "(4,)"
      ]
     },
     "execution_count": 5,
     "metadata": {},
     "output_type": "execute_result"
    }
   ],
   "source": [
    "revenus_array.shape"
   ]
  },
  {
   "cell_type": "code",
   "execution_count": 7,
   "id": "a0489726",
   "metadata": {},
   "outputs": [],
   "source": [
    "hugo = [1300, 400, 23]\n",
    "richard = [1700, 560, 24]\n",
    "emilie = [2500, 900, 30]\n",
    "gaspard = [3000, 1000, 22]\n",
    "yohann = [2400, 700, 28]"
   ]
  },
  {
   "cell_type": "code",
   "execution_count": 8,
   "id": "02620d71",
   "metadata": {},
   "outputs": [],
   "source": [
    "tableau = [hugo, richard, emilie, gaspard, yohann]"
   ]
  },
  {
   "cell_type": "code",
   "execution_count": 9,
   "id": "465aa8cf",
   "metadata": {},
   "outputs": [],
   "source": [
    "data = np.array(tableau)"
   ]
  },
  {
   "cell_type": "code",
   "execution_count": 10,
   "id": "e39cd140",
   "metadata": {},
   "outputs": [
    {
     "data": {
      "text/plain": [
       "array([[1300,  400,   23],\n",
       "       [1700,  560,   24],\n",
       "       [2500,  900,   30],\n",
       "       [3000, 1000,   22],\n",
       "       [2400,  700,   28]])"
      ]
     },
     "execution_count": 10,
     "metadata": {},
     "output_type": "execute_result"
    }
   ],
   "source": [
    "data"
   ]
  },
  {
   "cell_type": "code",
   "execution_count": 11,
   "id": "f0e609b6",
   "metadata": {},
   "outputs": [
    {
     "data": {
      "text/plain": [
       "400"
      ]
     },
     "execution_count": 11,
     "metadata": {},
     "output_type": "execute_result"
    }
   ],
   "source": [
    "data[0,1]"
   ]
  },
  {
   "cell_type": "code",
   "execution_count": 12,
   "id": "64718d9d",
   "metadata": {},
   "outputs": [
    {
     "data": {
      "text/plain": [
       "array([3000, 1000,   22])"
      ]
     },
     "execution_count": 12,
     "metadata": {},
     "output_type": "execute_result"
    }
   ],
   "source": [
    "data[3, :]"
   ]
  },
  {
   "cell_type": "code",
   "execution_count": 13,
   "id": "83ef61d8",
   "metadata": {},
   "outputs": [
    {
     "data": {
      "text/plain": [
       "array([[1300,  400,   23],\n",
       "       [1700,  560,   24]])"
      ]
     },
     "execution_count": 13,
     "metadata": {},
     "output_type": "execute_result"
    }
   ],
   "source": [
    "data[data[:, 0] < 2000]"
   ]
  },
  {
   "cell_type": "code",
   "execution_count": 14,
   "id": "fd41328e",
   "metadata": {},
   "outputs": [],
   "source": [
    "fred = [1800, 500, 32]"
   ]
  },
  {
   "cell_type": "code",
   "execution_count": 17,
   "id": "648befd7",
   "metadata": {},
   "outputs": [],
   "source": [
    "data = np.vstack((data, fred))"
   ]
  },
  {
   "cell_type": "code",
   "execution_count": 18,
   "id": "16a6ea23",
   "metadata": {},
   "outputs": [
    {
     "data": {
      "text/plain": [
       "array([[1300,  400,   23],\n",
       "       [1700,  560,   24],\n",
       "       [2500,  900,   30],\n",
       "       [3000, 1000,   22],\n",
       "       [2400,  700,   28],\n",
       "       [1800,  500,   32]])"
      ]
     },
     "execution_count": 18,
     "metadata": {},
     "output_type": "execute_result"
    }
   ],
   "source": [
    "data"
   ]
  },
  {
   "cell_type": "code",
   "execution_count": 19,
   "id": "51180639",
   "metadata": {},
   "outputs": [
    {
     "data": {
      "text/plain": [
       "array([ 5. ,  5.5,  6. ,  6.5,  7. ,  7.5,  8. ,  8.5,  9. ,  9.5, 10. ])"
      ]
     },
     "execution_count": 19,
     "metadata": {},
     "output_type": "execute_result"
    }
   ],
   "source": [
    "a = np.linspace(5,10,11)\n",
    "a"
   ]
  },
  {
   "cell_type": "code",
   "execution_count": 20,
   "id": "ec8e2dd6",
   "metadata": {},
   "outputs": [
    {
     "name": "stdout",
     "output_type": "stream",
     "text": [
      "[9.  9.5]\n"
     ]
    }
   ],
   "source": [
    "print(a[-3:-1])"
   ]
  },
  {
   "cell_type": "code",
   "execution_count": 26,
   "id": "849e0b03",
   "metadata": {},
   "outputs": [],
   "source": [
    "b = np.array([[[1,2],[4,5]],[[1,2],[4,5]],[[10,2],[4,5]]])"
   ]
  },
  {
   "cell_type": "code",
   "execution_count": 27,
   "id": "3bcc690f",
   "metadata": {},
   "outputs": [
    {
     "data": {
      "text/plain": [
       "array([[10,  2],\n",
       "       [ 4,  5]])"
      ]
     },
     "execution_count": 27,
     "metadata": {},
     "output_type": "execute_result"
    }
   ],
   "source": [
    "b[2,:,:]"
   ]
  },
  {
   "cell_type": "code",
   "execution_count": null,
   "id": "9369c983",
   "metadata": {},
   "outputs": [],
   "source": []
  }
 ],
 "metadata": {
  "kernelspec": {
   "display_name": "Python 3 (ipykernel)",
   "language": "python",
   "name": "python3"
  },
  "language_info": {
   "codemirror_mode": {
    "name": "ipython",
    "version": 3
   },
   "file_extension": ".py",
   "mimetype": "text/x-python",
   "name": "python",
   "nbconvert_exporter": "python",
   "pygments_lexer": "ipython3",
   "version": "3.9.16"
  }
 },
 "nbformat": 4,
 "nbformat_minor": 5
}
