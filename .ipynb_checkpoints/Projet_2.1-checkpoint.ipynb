{
 "cells": [
  {
   "cell_type": "markdown",
   "id": "1d6452ad",
   "metadata": {},
   "source": [
    "# 1 Analyse Statistique"
   ]
  },
  {
   "cell_type": "markdown",
   "id": "c1ea57ee",
   "metadata": {},
   "source": [
    "# 2 Nettoyer jeu de données"
   ]
  },
  {
   "cell_type": "code",
   "execution_count": 24,
   "id": "4ab1ea20",
   "metadata": {},
   "outputs": [],
   "source": [
    "import pandas as pd\n",
    "import numpy as np\n",
    "import re"
   ]
  },
  {
   "cell_type": "code",
   "execution_count": 25,
   "id": "08055a13",
   "metadata": {},
   "outputs": [
    {
     "data": {
      "text/html": [
       "<div>\n",
       "<style scoped>\n",
       "    .dataframe tbody tr th:only-of-type {\n",
       "        vertical-align: middle;\n",
       "    }\n",
       "\n",
       "    .dataframe tbody tr th {\n",
       "        vertical-align: top;\n",
       "    }\n",
       "\n",
       "    .dataframe thead th {\n",
       "        text-align: right;\n",
       "    }\n",
       "</style>\n",
       "<table border=\"1\" class=\"dataframe\">\n",
       "  <thead>\n",
       "    <tr style=\"text-align: right;\">\n",
       "      <th></th>\n",
       "      <th>prenom</th>\n",
       "      <th>email</th>\n",
       "      <th>date_naissance</th>\n",
       "      <th>pays</th>\n",
       "      <th>taille</th>\n",
       "    </tr>\n",
       "  </thead>\n",
       "  <tbody>\n",
       "    <tr>\n",
       "      <th>0</th>\n",
       "      <td>Leila</td>\n",
       "      <td>leila@example.com</td>\n",
       "      <td>23/01/1990</td>\n",
       "      <td>France</td>\n",
       "      <td>1.49m</td>\n",
       "    </tr>\n",
       "    <tr>\n",
       "      <th>1</th>\n",
       "      <td>Samuel</td>\n",
       "      <td>samuel_329@example.com</td>\n",
       "      <td>20/09/2001</td>\n",
       "      <td>NaN</td>\n",
       "      <td>1.67m</td>\n",
       "    </tr>\n",
       "    <tr>\n",
       "      <th>2</th>\n",
       "      <td>Radia</td>\n",
       "      <td>choupipoune@supermail.eu</td>\n",
       "      <td>12 sept. 1984</td>\n",
       "      <td>Côte d'ivoire</td>\n",
       "      <td>153cm</td>\n",
       "    </tr>\n",
       "    <tr>\n",
       "      <th>3</th>\n",
       "      <td>Marc</td>\n",
       "      <td>marco23@example.com, mc23@supermail.eu</td>\n",
       "      <td>10/02/1978</td>\n",
       "      <td>France</td>\n",
       "      <td>1.65m</td>\n",
       "    </tr>\n",
       "    <tr>\n",
       "      <th>4</th>\n",
       "      <td>Heri</td>\n",
       "      <td>helloworld@supermail.eu</td>\n",
       "      <td>05/03/2008</td>\n",
       "      <td>Madagascar</td>\n",
       "      <td>1.34m</td>\n",
       "    </tr>\n",
       "    <tr>\n",
       "      <th>5</th>\n",
       "      <td>Hanna</td>\n",
       "      <td>hanna2019@supermail.eu</td>\n",
       "      <td>01/01/1970</td>\n",
       "      <td>24</td>\n",
       "      <td>3.45m</td>\n",
       "    </tr>\n",
       "    <tr>\n",
       "      <th>6</th>\n",
       "      <td>samuël</td>\n",
       "      <td>samuel_329@example.com</td>\n",
       "      <td>NaN</td>\n",
       "      <td>Bénin</td>\n",
       "      <td>1.45m</td>\n",
       "    </tr>\n",
       "  </tbody>\n",
       "</table>\n",
       "</div>"
      ],
      "text/plain": [
       "   prenom                                   email date_naissance  \\\n",
       "0   Leila                       leila@example.com     23/01/1990   \n",
       "1  Samuel                  samuel_329@example.com     20/09/2001   \n",
       "2   Radia                choupipoune@supermail.eu  12 sept. 1984   \n",
       "3    Marc  marco23@example.com, mc23@supermail.eu     10/02/1978   \n",
       "4    Heri                 helloworld@supermail.eu     05/03/2008   \n",
       "5   Hanna                  hanna2019@supermail.eu     01/01/1970   \n",
       "6  samuël                  samuel_329@example.com            NaN   \n",
       "\n",
       "            pays taille  \n",
       "0         France  1.49m  \n",
       "1            NaN  1.67m  \n",
       "2  Côte d'ivoire  153cm  \n",
       "3         France  1.65m  \n",
       "4     Madagascar  1.34m  \n",
       "5             24  3.45m  \n",
       "6          Bénin  1.45m  "
      ]
     },
     "execution_count": 25,
     "metadata": {},
     "output_type": "execute_result"
    }
   ],
   "source": [
    "data = pd.read_csv('data_2/personnes.csv')\n",
    "data"
   ]
  },
  {
   "cell_type": "code",
   "execution_count": 26,
   "id": "7e0002d5",
   "metadata": {},
   "outputs": [
    {
     "data": {
      "text/plain": [
       "prenom            0\n",
       "email             0\n",
       "date_naissance    1\n",
       "pays              1\n",
       "taille            0\n",
       "dtype: int64"
      ]
     },
     "execution_count": 26,
     "metadata": {},
     "output_type": "execute_result"
    }
   ],
   "source": [
    "data.isnull().sum()"
   ]
  },
  {
   "cell_type": "code",
   "execution_count": 27,
   "id": "226c0bb4",
   "metadata": {},
   "outputs": [
    {
     "data": {
      "text/html": [
       "<div>\n",
       "<style scoped>\n",
       "    .dataframe tbody tr th:only-of-type {\n",
       "        vertical-align: middle;\n",
       "    }\n",
       "\n",
       "    .dataframe tbody tr th {\n",
       "        vertical-align: top;\n",
       "    }\n",
       "\n",
       "    .dataframe thead th {\n",
       "        text-align: right;\n",
       "    }\n",
       "</style>\n",
       "<table border=\"1\" class=\"dataframe\">\n",
       "  <thead>\n",
       "    <tr style=\"text-align: right;\">\n",
       "      <th></th>\n",
       "      <th>prenom</th>\n",
       "      <th>email</th>\n",
       "      <th>date_naissance</th>\n",
       "      <th>pays</th>\n",
       "      <th>taille</th>\n",
       "    </tr>\n",
       "  </thead>\n",
       "  <tbody>\n",
       "    <tr>\n",
       "      <th>1</th>\n",
       "      <td>Samuel</td>\n",
       "      <td>samuel_329@example.com</td>\n",
       "      <td>20/09/2001</td>\n",
       "      <td>NaN</td>\n",
       "      <td>1.67m</td>\n",
       "    </tr>\n",
       "    <tr>\n",
       "      <th>6</th>\n",
       "      <td>samuël</td>\n",
       "      <td>samuel_329@example.com</td>\n",
       "      <td>NaN</td>\n",
       "      <td>Bénin</td>\n",
       "      <td>1.45m</td>\n",
       "    </tr>\n",
       "  </tbody>\n",
       "</table>\n",
       "</div>"
      ],
      "text/plain": [
       "   prenom                   email date_naissance   pays taille\n",
       "1  Samuel  samuel_329@example.com     20/09/2001    NaN  1.67m\n",
       "6  samuël  samuel_329@example.com            NaN  Bénin  1.45m"
      ]
     },
     "execution_count": 27,
     "metadata": {},
     "output_type": "execute_result"
    }
   ],
   "source": [
    "data.loc[data['email'].duplicated(keep=False)]"
   ]
  },
  {
   "cell_type": "code",
   "execution_count": 28,
   "id": "b0304eef",
   "metadata": {},
   "outputs": [],
   "source": [
    "countries = ['France', 'Bénin', 'Côte d\\'ivoire', 'Madagascar']"
   ]
  },
  {
   "cell_type": "code",
   "execution_count": 29,
   "id": "2f7a155f",
   "metadata": {},
   "outputs": [],
   "source": [
    "mask = ~data['pays'].isin(countries)"
   ]
  },
  {
   "cell_type": "code",
   "execution_count": 30,
   "id": "94962f36",
   "metadata": {},
   "outputs": [],
   "source": [
    "data.loc[mask, 'pays'] = np.NaN"
   ]
  },
  {
   "cell_type": "code",
   "execution_count": 31,
   "id": "d69f13aa",
   "metadata": {},
   "outputs": [
    {
     "data": {
      "text/html": [
       "<div>\n",
       "<style scoped>\n",
       "    .dataframe tbody tr th:only-of-type {\n",
       "        vertical-align: middle;\n",
       "    }\n",
       "\n",
       "    .dataframe tbody tr th {\n",
       "        vertical-align: top;\n",
       "    }\n",
       "\n",
       "    .dataframe thead th {\n",
       "        text-align: right;\n",
       "    }\n",
       "</style>\n",
       "<table border=\"1\" class=\"dataframe\">\n",
       "  <thead>\n",
       "    <tr style=\"text-align: right;\">\n",
       "      <th></th>\n",
       "      <th>prenom</th>\n",
       "      <th>email</th>\n",
       "      <th>date_naissance</th>\n",
       "      <th>pays</th>\n",
       "      <th>taille</th>\n",
       "    </tr>\n",
       "  </thead>\n",
       "  <tbody>\n",
       "    <tr>\n",
       "      <th>0</th>\n",
       "      <td>Leila</td>\n",
       "      <td>leila@example.com</td>\n",
       "      <td>23/01/1990</td>\n",
       "      <td>France</td>\n",
       "      <td>1.49m</td>\n",
       "    </tr>\n",
       "    <tr>\n",
       "      <th>1</th>\n",
       "      <td>Samuel</td>\n",
       "      <td>samuel_329@example.com</td>\n",
       "      <td>20/09/2001</td>\n",
       "      <td>NaN</td>\n",
       "      <td>1.67m</td>\n",
       "    </tr>\n",
       "    <tr>\n",
       "      <th>2</th>\n",
       "      <td>Radia</td>\n",
       "      <td>choupipoune@supermail.eu</td>\n",
       "      <td>12 sept. 1984</td>\n",
       "      <td>Côte d'ivoire</td>\n",
       "      <td>153cm</td>\n",
       "    </tr>\n",
       "    <tr>\n",
       "      <th>3</th>\n",
       "      <td>Marc</td>\n",
       "      <td>marco23@example.com, mc23@supermail.eu</td>\n",
       "      <td>10/02/1978</td>\n",
       "      <td>France</td>\n",
       "      <td>1.65m</td>\n",
       "    </tr>\n",
       "    <tr>\n",
       "      <th>4</th>\n",
       "      <td>Heri</td>\n",
       "      <td>helloworld@supermail.eu</td>\n",
       "      <td>05/03/2008</td>\n",
       "      <td>Madagascar</td>\n",
       "      <td>1.34m</td>\n",
       "    </tr>\n",
       "    <tr>\n",
       "      <th>5</th>\n",
       "      <td>Hanna</td>\n",
       "      <td>hanna2019@supermail.eu</td>\n",
       "      <td>01/01/1970</td>\n",
       "      <td>NaN</td>\n",
       "      <td>3.45m</td>\n",
       "    </tr>\n",
       "    <tr>\n",
       "      <th>6</th>\n",
       "      <td>samuël</td>\n",
       "      <td>samuel_329@example.com</td>\n",
       "      <td>NaN</td>\n",
       "      <td>Bénin</td>\n",
       "      <td>1.45m</td>\n",
       "    </tr>\n",
       "  </tbody>\n",
       "</table>\n",
       "</div>"
      ],
      "text/plain": [
       "   prenom                                   email date_naissance  \\\n",
       "0   Leila                       leila@example.com     23/01/1990   \n",
       "1  Samuel                  samuel_329@example.com     20/09/2001   \n",
       "2   Radia                choupipoune@supermail.eu  12 sept. 1984   \n",
       "3    Marc  marco23@example.com, mc23@supermail.eu     10/02/1978   \n",
       "4    Heri                 helloworld@supermail.eu     05/03/2008   \n",
       "5   Hanna                  hanna2019@supermail.eu     01/01/1970   \n",
       "6  samuël                  samuel_329@example.com            NaN   \n",
       "\n",
       "            pays taille  \n",
       "0         France  1.49m  \n",
       "1            NaN  1.67m  \n",
       "2  Côte d'ivoire  153cm  \n",
       "3         France  1.65m  \n",
       "4     Madagascar  1.34m  \n",
       "5            NaN  3.45m  \n",
       "6          Bénin  1.45m  "
      ]
     },
     "execution_count": 31,
     "metadata": {},
     "output_type": "execute_result"
    }
   ],
   "source": [
    "data"
   ]
  },
  {
   "cell_type": "code",
   "execution_count": 32,
   "id": "ae39ebe3",
   "metadata": {},
   "outputs": [
    {
     "data": {
      "text/html": [
       "<div>\n",
       "<style scoped>\n",
       "    .dataframe tbody tr th:only-of-type {\n",
       "        vertical-align: middle;\n",
       "    }\n",
       "\n",
       "    .dataframe tbody tr th {\n",
       "        vertical-align: top;\n",
       "    }\n",
       "\n",
       "    .dataframe thead th {\n",
       "        text-align: right;\n",
       "    }\n",
       "</style>\n",
       "<table border=\"1\" class=\"dataframe\">\n",
       "  <thead>\n",
       "    <tr style=\"text-align: right;\">\n",
       "      <th></th>\n",
       "      <th>prenom</th>\n",
       "      <th>email</th>\n",
       "      <th>date_naissance</th>\n",
       "      <th>pays</th>\n",
       "      <th>taille</th>\n",
       "    </tr>\n",
       "  </thead>\n",
       "  <tbody>\n",
       "    <tr>\n",
       "      <th>0</th>\n",
       "      <td>Leila</td>\n",
       "      <td>leila@example.com</td>\n",
       "      <td>23/01/1990</td>\n",
       "      <td>France</td>\n",
       "      <td>1.49m</td>\n",
       "    </tr>\n",
       "    <tr>\n",
       "      <th>1</th>\n",
       "      <td>Samuel</td>\n",
       "      <td>samuel_329@example.com</td>\n",
       "      <td>20/09/2001</td>\n",
       "      <td>NaN</td>\n",
       "      <td>1.67m</td>\n",
       "    </tr>\n",
       "    <tr>\n",
       "      <th>2</th>\n",
       "      <td>Radia</td>\n",
       "      <td>choupipoune@supermail.eu</td>\n",
       "      <td>12 sept. 1984</td>\n",
       "      <td>Côte d'ivoire</td>\n",
       "      <td>153cm</td>\n",
       "    </tr>\n",
       "    <tr>\n",
       "      <th>3</th>\n",
       "      <td>Marc</td>\n",
       "      <td>marco23@example.com</td>\n",
       "      <td>10/02/1978</td>\n",
       "      <td>France</td>\n",
       "      <td>1.65m</td>\n",
       "    </tr>\n",
       "    <tr>\n",
       "      <th>4</th>\n",
       "      <td>Heri</td>\n",
       "      <td>helloworld@supermail.eu</td>\n",
       "      <td>05/03/2008</td>\n",
       "      <td>Madagascar</td>\n",
       "      <td>1.34m</td>\n",
       "    </tr>\n",
       "    <tr>\n",
       "      <th>5</th>\n",
       "      <td>Hanna</td>\n",
       "      <td>hanna2019@supermail.eu</td>\n",
       "      <td>01/01/1970</td>\n",
       "      <td>NaN</td>\n",
       "      <td>3.45m</td>\n",
       "    </tr>\n",
       "    <tr>\n",
       "      <th>6</th>\n",
       "      <td>samuël</td>\n",
       "      <td>samuel_329@example.com</td>\n",
       "      <td>NaN</td>\n",
       "      <td>Bénin</td>\n",
       "      <td>1.45m</td>\n",
       "    </tr>\n",
       "  </tbody>\n",
       "</table>\n",
       "</div>"
      ],
      "text/plain": [
       "   prenom                     email date_naissance           pays taille\n",
       "0   Leila         leila@example.com     23/01/1990         France  1.49m\n",
       "1  Samuel    samuel_329@example.com     20/09/2001            NaN  1.67m\n",
       "2   Radia  choupipoune@supermail.eu  12 sept. 1984  Côte d'ivoire  153cm\n",
       "3    Marc       marco23@example.com     10/02/1978         France  1.65m\n",
       "4    Heri   helloworld@supermail.eu     05/03/2008     Madagascar  1.34m\n",
       "5   Hanna    hanna2019@supermail.eu     01/01/1970            NaN  3.45m\n",
       "6  samuël    samuel_329@example.com            NaN          Bénin  1.45m"
      ]
     },
     "execution_count": 32,
     "metadata": {},
     "output_type": "execute_result"
    }
   ],
   "source": [
    "data['email'] = data['email'].str.split(',', n=1, expand=True)[0]\n",
    "data"
   ]
  },
  {
   "cell_type": "code",
   "execution_count": 33,
   "id": "a674ceea",
   "metadata": {},
   "outputs": [
    {
     "data": {
      "text/html": [
       "<div>\n",
       "<style scoped>\n",
       "    .dataframe tbody tr th:only-of-type {\n",
       "        vertical-align: middle;\n",
       "    }\n",
       "\n",
       "    .dataframe tbody tr th {\n",
       "        vertical-align: top;\n",
       "    }\n",
       "\n",
       "    .dataframe thead th {\n",
       "        text-align: right;\n",
       "    }\n",
       "</style>\n",
       "<table border=\"1\" class=\"dataframe\">\n",
       "  <thead>\n",
       "    <tr style=\"text-align: right;\">\n",
       "      <th></th>\n",
       "      <th>prenom</th>\n",
       "      <th>email</th>\n",
       "      <th>date_naissance</th>\n",
       "      <th>pays</th>\n",
       "      <th>taille</th>\n",
       "    </tr>\n",
       "  </thead>\n",
       "  <tbody>\n",
       "    <tr>\n",
       "      <th>0</th>\n",
       "      <td>Leila</td>\n",
       "      <td>leila@example.com</td>\n",
       "      <td>23/01/1990</td>\n",
       "      <td>France</td>\n",
       "      <td>1.49</td>\n",
       "    </tr>\n",
       "    <tr>\n",
       "      <th>1</th>\n",
       "      <td>Samuel</td>\n",
       "      <td>samuel_329@example.com</td>\n",
       "      <td>20/09/2001</td>\n",
       "      <td>NaN</td>\n",
       "      <td>1.67</td>\n",
       "    </tr>\n",
       "    <tr>\n",
       "      <th>2</th>\n",
       "      <td>Radia</td>\n",
       "      <td>choupipoune@supermail.eu</td>\n",
       "      <td>12 sept. 1984</td>\n",
       "      <td>Côte d'ivoire</td>\n",
       "      <td>NaN</td>\n",
       "    </tr>\n",
       "    <tr>\n",
       "      <th>3</th>\n",
       "      <td>Marc</td>\n",
       "      <td>marco23@example.com</td>\n",
       "      <td>10/02/1978</td>\n",
       "      <td>France</td>\n",
       "      <td>1.65</td>\n",
       "    </tr>\n",
       "    <tr>\n",
       "      <th>4</th>\n",
       "      <td>Heri</td>\n",
       "      <td>helloworld@supermail.eu</td>\n",
       "      <td>05/03/2008</td>\n",
       "      <td>Madagascar</td>\n",
       "      <td>1.34</td>\n",
       "    </tr>\n",
       "    <tr>\n",
       "      <th>5</th>\n",
       "      <td>Hanna</td>\n",
       "      <td>hanna2019@supermail.eu</td>\n",
       "      <td>01/01/1970</td>\n",
       "      <td>NaN</td>\n",
       "      <td>3.45</td>\n",
       "    </tr>\n",
       "    <tr>\n",
       "      <th>6</th>\n",
       "      <td>samuël</td>\n",
       "      <td>samuel_329@example.com</td>\n",
       "      <td>NaN</td>\n",
       "      <td>Bénin</td>\n",
       "      <td>1.45</td>\n",
       "    </tr>\n",
       "  </tbody>\n",
       "</table>\n",
       "</div>"
      ],
      "text/plain": [
       "   prenom                     email date_naissance           pays  taille\n",
       "0   Leila         leila@example.com     23/01/1990         France    1.49\n",
       "1  Samuel    samuel_329@example.com     20/09/2001            NaN    1.67\n",
       "2   Radia  choupipoune@supermail.eu  12 sept. 1984  Côte d'ivoire     NaN\n",
       "3    Marc       marco23@example.com     10/02/1978         France    1.65\n",
       "4    Heri   helloworld@supermail.eu     05/03/2008     Madagascar    1.34\n",
       "5   Hanna    hanna2019@supermail.eu     01/01/1970            NaN    3.45\n",
       "6  samuël    samuel_329@example.com            NaN          Bénin    1.45"
      ]
     },
     "execution_count": 33,
     "metadata": {},
     "output_type": "execute_result"
    }
   ],
   "source": [
    "data['taille'] = data['taille'].str[:-1]\n",
    "data['taille'] = pd.to_numeric(data['taille'], errors='coerce')\n",
    "data"
   ]
  },
  {
   "cell_type": "code",
   "execution_count": 34,
   "id": "500c25f0",
   "metadata": {},
   "outputs": [],
   "source": [
    "data.loc[data['taille'].isnull(), 'taille'] = data['taille'].mean()"
   ]
  },
  {
   "cell_type": "code",
   "execution_count": 35,
   "id": "3c039932",
   "metadata": {},
   "outputs": [
    {
     "data": {
      "text/html": [
       "<div>\n",
       "<style scoped>\n",
       "    .dataframe tbody tr th:only-of-type {\n",
       "        vertical-align: middle;\n",
       "    }\n",
       "\n",
       "    .dataframe tbody tr th {\n",
       "        vertical-align: top;\n",
       "    }\n",
       "\n",
       "    .dataframe thead th {\n",
       "        text-align: right;\n",
       "    }\n",
       "</style>\n",
       "<table border=\"1\" class=\"dataframe\">\n",
       "  <thead>\n",
       "    <tr style=\"text-align: right;\">\n",
       "      <th></th>\n",
       "      <th>prenom</th>\n",
       "      <th>email</th>\n",
       "      <th>date_naissance</th>\n",
       "      <th>pays</th>\n",
       "      <th>taille</th>\n",
       "    </tr>\n",
       "  </thead>\n",
       "  <tbody>\n",
       "    <tr>\n",
       "      <th>0</th>\n",
       "      <td>Leila</td>\n",
       "      <td>leila@example.com</td>\n",
       "      <td>23/01/1990</td>\n",
       "      <td>France</td>\n",
       "      <td>1.490000</td>\n",
       "    </tr>\n",
       "    <tr>\n",
       "      <th>1</th>\n",
       "      <td>Samuel</td>\n",
       "      <td>samuel_329@example.com</td>\n",
       "      <td>20/09/2001</td>\n",
       "      <td>NaN</td>\n",
       "      <td>1.670000</td>\n",
       "    </tr>\n",
       "    <tr>\n",
       "      <th>2</th>\n",
       "      <td>Radia</td>\n",
       "      <td>choupipoune@supermail.eu</td>\n",
       "      <td>12 sept. 1984</td>\n",
       "      <td>Côte d'ivoire</td>\n",
       "      <td>1.841667</td>\n",
       "    </tr>\n",
       "    <tr>\n",
       "      <th>3</th>\n",
       "      <td>Marc</td>\n",
       "      <td>marco23@example.com</td>\n",
       "      <td>10/02/1978</td>\n",
       "      <td>France</td>\n",
       "      <td>1.650000</td>\n",
       "    </tr>\n",
       "    <tr>\n",
       "      <th>4</th>\n",
       "      <td>Heri</td>\n",
       "      <td>helloworld@supermail.eu</td>\n",
       "      <td>05/03/2008</td>\n",
       "      <td>Madagascar</td>\n",
       "      <td>1.340000</td>\n",
       "    </tr>\n",
       "    <tr>\n",
       "      <th>5</th>\n",
       "      <td>Hanna</td>\n",
       "      <td>hanna2019@supermail.eu</td>\n",
       "      <td>01/01/1970</td>\n",
       "      <td>NaN</td>\n",
       "      <td>3.450000</td>\n",
       "    </tr>\n",
       "    <tr>\n",
       "      <th>6</th>\n",
       "      <td>samuël</td>\n",
       "      <td>samuel_329@example.com</td>\n",
       "      <td>NaN</td>\n",
       "      <td>Bénin</td>\n",
       "      <td>1.450000</td>\n",
       "    </tr>\n",
       "  </tbody>\n",
       "</table>\n",
       "</div>"
      ],
      "text/plain": [
       "   prenom                     email date_naissance           pays    taille\n",
       "0   Leila         leila@example.com     23/01/1990         France  1.490000\n",
       "1  Samuel    samuel_329@example.com     20/09/2001            NaN  1.670000\n",
       "2   Radia  choupipoune@supermail.eu  12 sept. 1984  Côte d'ivoire  1.841667\n",
       "3    Marc       marco23@example.com     10/02/1978         France  1.650000\n",
       "4    Heri   helloworld@supermail.eu     05/03/2008     Madagascar  1.340000\n",
       "5   Hanna    hanna2019@supermail.eu     01/01/1970            NaN  3.450000\n",
       "6  samuël    samuel_329@example.com            NaN          Bénin  1.450000"
      ]
     },
     "execution_count": 35,
     "metadata": {},
     "output_type": "execute_result"
    }
   ],
   "source": [
    "data"
   ]
  },
  {
   "cell_type": "code",
   "execution_count": 36,
   "id": "8d835511",
   "metadata": {},
   "outputs": [],
   "source": [
    "data['date_naissance'] = pd.to_datetime(data['date_naissance'], \n",
    "                                           format='%d/%m/%Y', errors='coerce')"
   ]
  },
  {
   "cell_type": "code",
   "execution_count": 37,
   "id": "31d791c7",
   "metadata": {},
   "outputs": [
    {
     "data": {
      "text/html": [
       "<div>\n",
       "<style scoped>\n",
       "    .dataframe tbody tr th:only-of-type {\n",
       "        vertical-align: middle;\n",
       "    }\n",
       "\n",
       "    .dataframe tbody tr th {\n",
       "        vertical-align: top;\n",
       "    }\n",
       "\n",
       "    .dataframe thead th {\n",
       "        text-align: right;\n",
       "    }\n",
       "</style>\n",
       "<table border=\"1\" class=\"dataframe\">\n",
       "  <thead>\n",
       "    <tr style=\"text-align: right;\">\n",
       "      <th></th>\n",
       "      <th>prenom</th>\n",
       "      <th>email</th>\n",
       "      <th>date_naissance</th>\n",
       "      <th>pays</th>\n",
       "      <th>taille</th>\n",
       "    </tr>\n",
       "  </thead>\n",
       "  <tbody>\n",
       "    <tr>\n",
       "      <th>0</th>\n",
       "      <td>Leila</td>\n",
       "      <td>leila@example.com</td>\n",
       "      <td>1990-01-23</td>\n",
       "      <td>France</td>\n",
       "      <td>1.490000</td>\n",
       "    </tr>\n",
       "    <tr>\n",
       "      <th>1</th>\n",
       "      <td>Samuel</td>\n",
       "      <td>samuel_329@example.com</td>\n",
       "      <td>2001-09-20</td>\n",
       "      <td>NaN</td>\n",
       "      <td>1.670000</td>\n",
       "    </tr>\n",
       "    <tr>\n",
       "      <th>2</th>\n",
       "      <td>Radia</td>\n",
       "      <td>choupipoune@supermail.eu</td>\n",
       "      <td>NaT</td>\n",
       "      <td>Côte d'ivoire</td>\n",
       "      <td>1.841667</td>\n",
       "    </tr>\n",
       "    <tr>\n",
       "      <th>3</th>\n",
       "      <td>Marc</td>\n",
       "      <td>marco23@example.com</td>\n",
       "      <td>1978-02-10</td>\n",
       "      <td>France</td>\n",
       "      <td>1.650000</td>\n",
       "    </tr>\n",
       "    <tr>\n",
       "      <th>4</th>\n",
       "      <td>Heri</td>\n",
       "      <td>helloworld@supermail.eu</td>\n",
       "      <td>2008-03-05</td>\n",
       "      <td>Madagascar</td>\n",
       "      <td>1.340000</td>\n",
       "    </tr>\n",
       "    <tr>\n",
       "      <th>5</th>\n",
       "      <td>Hanna</td>\n",
       "      <td>hanna2019@supermail.eu</td>\n",
       "      <td>1970-01-01</td>\n",
       "      <td>NaN</td>\n",
       "      <td>3.450000</td>\n",
       "    </tr>\n",
       "    <tr>\n",
       "      <th>6</th>\n",
       "      <td>samuël</td>\n",
       "      <td>samuel_329@example.com</td>\n",
       "      <td>NaT</td>\n",
       "      <td>Bénin</td>\n",
       "      <td>1.450000</td>\n",
       "    </tr>\n",
       "  </tbody>\n",
       "</table>\n",
       "</div>"
      ],
      "text/plain": [
       "   prenom                     email date_naissance           pays    taille\n",
       "0   Leila         leila@example.com     1990-01-23         France  1.490000\n",
       "1  Samuel    samuel_329@example.com     2001-09-20            NaN  1.670000\n",
       "2   Radia  choupipoune@supermail.eu            NaT  Côte d'ivoire  1.841667\n",
       "3    Marc       marco23@example.com     1978-02-10         France  1.650000\n",
       "4    Heri   helloworld@supermail.eu     2008-03-05     Madagascar  1.340000\n",
       "5   Hanna    hanna2019@supermail.eu     1970-01-01            NaN  3.450000\n",
       "6  samuël    samuel_329@example.com            NaT          Bénin  1.450000"
      ]
     },
     "execution_count": 37,
     "metadata": {},
     "output_type": "execute_result"
    }
   ],
   "source": [
    "data"
   ]
  },
  {
   "cell_type": "code",
   "execution_count": 66,
   "id": "078b741c",
   "metadata": {},
   "outputs": [],
   "source": [
    "quiz = pd.read_csv('data_2/course+-+Quiz+P2.csv') "
   ]
  },
  {
   "cell_type": "code",
   "execution_count": 67,
   "id": "fae6cb60",
   "metadata": {},
   "outputs": [
    {
     "data": {
      "text/html": [
       "<div>\n",
       "<style scoped>\n",
       "    .dataframe tbody tr th:only-of-type {\n",
       "        vertical-align: middle;\n",
       "    }\n",
       "\n",
       "    .dataframe tbody tr th {\n",
       "        vertical-align: top;\n",
       "    }\n",
       "\n",
       "    .dataframe thead th {\n",
       "        text-align: right;\n",
       "    }\n",
       "</style>\n",
       "<table border=\"1\" class=\"dataframe\">\n",
       "  <thead>\n",
       "    <tr style=\"text-align: right;\">\n",
       "      <th></th>\n",
       "      <th>Position</th>\n",
       "      <th>Sexe</th>\n",
       "      <th>Temps</th>\n",
       "      <th>Dept</th>\n",
       "      <th>Temps_secondes</th>\n",
       "      <th>Age</th>\n",
       "    </tr>\n",
       "  </thead>\n",
       "  <tbody>\n",
       "    <tr>\n",
       "      <th>245</th>\n",
       "      <td>246</td>\n",
       "      <td>M</td>\n",
       "      <td>00:54:26</td>\n",
       "      <td>76</td>\n",
       "      <td>780866</td>\n",
       "      <td>55.0</td>\n",
       "    </tr>\n",
       "    <tr>\n",
       "      <th>246</th>\n",
       "      <td>247</td>\n",
       "      <td>F</td>\n",
       "      <td>00:54:27</td>\n",
       "      <td>76</td>\n",
       "      <td>780867</td>\n",
       "      <td>50.0</td>\n",
       "    </tr>\n",
       "    <tr>\n",
       "      <th>247</th>\n",
       "      <td>248</td>\n",
       "      <td>F</td>\n",
       "      <td>00:54:40</td>\n",
       "      <td>27</td>\n",
       "      <td>780880</td>\n",
       "      <td>35.0</td>\n",
       "    </tr>\n",
       "    <tr>\n",
       "      <th>248</th>\n",
       "      <td>249</td>\n",
       "      <td>M</td>\n",
       "      <td>00:54:44</td>\n",
       "      <td>27</td>\n",
       "      <td>780884</td>\n",
       "      <td>50.0</td>\n",
       "    </tr>\n",
       "    <tr>\n",
       "      <th>249</th>\n",
       "      <td>250</td>\n",
       "      <td>F</td>\n",
       "      <td>00:54:45</td>\n",
       "      <td>14</td>\n",
       "      <td>780885</td>\n",
       "      <td>23.0</td>\n",
       "    </tr>\n",
       "    <tr>\n",
       "      <th>250</th>\n",
       "      <td>251</td>\n",
       "      <td>M</td>\n",
       "      <td>54min47s</td>\n",
       "      <td>27</td>\n",
       "      <td>780887</td>\n",
       "      <td>42.0</td>\n",
       "    </tr>\n",
       "    <tr>\n",
       "      <th>251</th>\n",
       "      <td>252</td>\n",
       "      <td>M</td>\n",
       "      <td>00:54:49</td>\n",
       "      <td>14</td>\n",
       "      <td>780889</td>\n",
       "      <td>63.0</td>\n",
       "    </tr>\n",
       "    <tr>\n",
       "      <th>252</th>\n",
       "      <td>253</td>\n",
       "      <td>M</td>\n",
       "      <td>00:54:56</td>\n",
       "      <td>27</td>\n",
       "      <td>780896</td>\n",
       "      <td>35.0</td>\n",
       "    </tr>\n",
       "    <tr>\n",
       "      <th>253</th>\n",
       "      <td>254</td>\n",
       "      <td>F</td>\n",
       "      <td>00:54:56</td>\n",
       "      <td>27</td>\n",
       "      <td>780896</td>\n",
       "      <td>40.0</td>\n",
       "    </tr>\n",
       "    <tr>\n",
       "      <th>254</th>\n",
       "      <td>255</td>\n",
       "      <td>M</td>\n",
       "      <td>00:55:06</td>\n",
       "      <td>27</td>\n",
       "      <td>780906</td>\n",
       "      <td>38.0</td>\n",
       "    </tr>\n",
       "  </tbody>\n",
       "</table>\n",
       "</div>"
      ],
      "text/plain": [
       "     Position Sexe     Temps  Dept  Temps_secondes   Age\n",
       "245       246    M  00:54:26    76          780866  55.0\n",
       "246       247    F  00:54:27    76          780867  50.0\n",
       "247       248    F  00:54:40    27          780880  35.0\n",
       "248       249    M  00:54:44    27          780884  50.0\n",
       "249       250    F  00:54:45    14          780885  23.0\n",
       "250       251    M  54min47s    27          780887  42.0\n",
       "251       252    M  00:54:49    14          780889  63.0\n",
       "252       253    M  00:54:56    27          780896  35.0\n",
       "253       254    F  00:54:56    27          780896  40.0\n",
       "254       255    M  00:55:06    27          780906  38.0"
      ]
     },
     "execution_count": 67,
     "metadata": {},
     "output_type": "execute_result"
    }
   ],
   "source": [
    "quiz.iloc[245:255, :]"
   ]
  },
  {
   "cell_type": "code",
   "execution_count": null,
   "id": "bcfc6c08",
   "metadata": {},
   "outputs": [],
   "source": []
  },
  {
   "cell_type": "code",
   "execution_count": 58,
   "id": "fa8cdd5c",
   "metadata": {},
   "outputs": [
    {
     "data": {
      "text/html": [
       "<div>\n",
       "<style scoped>\n",
       "    .dataframe tbody tr th:only-of-type {\n",
       "        vertical-align: middle;\n",
       "    }\n",
       "\n",
       "    .dataframe tbody tr th {\n",
       "        vertical-align: top;\n",
       "    }\n",
       "\n",
       "    .dataframe thead th {\n",
       "        text-align: right;\n",
       "    }\n",
       "</style>\n",
       "<table border=\"1\" class=\"dataframe\">\n",
       "  <thead>\n",
       "    <tr style=\"text-align: right;\">\n",
       "      <th></th>\n",
       "      <th>Position</th>\n",
       "      <th>Sexe</th>\n",
       "      <th>Temps</th>\n",
       "      <th>Dept</th>\n",
       "      <th>Temps_secondes</th>\n",
       "      <th>Age</th>\n",
       "    </tr>\n",
       "  </thead>\n",
       "  <tbody>\n",
       "    <tr>\n",
       "      <th>0</th>\n",
       "      <td>1</td>\n",
       "      <td>M</td>\n",
       "      <td>00:32:23</td>\n",
       "      <td>76</td>\n",
       "      <td>779543</td>\n",
       "      <td>40.0</td>\n",
       "    </tr>\n",
       "    <tr>\n",
       "      <th>1</th>\n",
       "      <td>2</td>\n",
       "      <td>M</td>\n",
       "      <td>00:32:40</td>\n",
       "      <td>27</td>\n",
       "      <td>779560</td>\n",
       "      <td>34.0</td>\n",
       "    </tr>\n",
       "    <tr>\n",
       "      <th>2</th>\n",
       "      <td>3</td>\n",
       "      <td>M</td>\n",
       "      <td>00:33:15</td>\n",
       "      <td>76</td>\n",
       "      <td>779595</td>\n",
       "      <td>44.0</td>\n",
       "    </tr>\n",
       "    <tr>\n",
       "      <th>3</th>\n",
       "      <td>4</td>\n",
       "      <td>M</td>\n",
       "      <td>00:33:23</td>\n",
       "      <td>76</td>\n",
       "      <td>779603</td>\n",
       "      <td>46.0</td>\n",
       "    </tr>\n",
       "    <tr>\n",
       "      <th>4</th>\n",
       "      <td>5</td>\n",
       "      <td>M</td>\n",
       "      <td>00:33:29</td>\n",
       "      <td>76</td>\n",
       "      <td>779609</td>\n",
       "      <td>26.0</td>\n",
       "    </tr>\n",
       "  </tbody>\n",
       "</table>\n",
       "</div>"
      ],
      "text/plain": [
       "   Position Sexe     Temps  Dept  Temps_secondes   Age\n",
       "0         1    M  00:32:23    76          779543  40.0\n",
       "1         2    M  00:32:40    27          779560  34.0\n",
       "2         3    M  00:33:15    76          779595  44.0\n",
       "3         4    M  00:33:23    76          779603  46.0\n",
       "4         5    M  00:33:29    76          779609  26.0"
      ]
     },
     "execution_count": 58,
     "metadata": {},
     "output_type": "execute_result"
    }
   ],
   "source": [
    "quiz.head()"
   ]
  },
  {
   "cell_type": "code",
   "execution_count": 59,
   "id": "3a290198",
   "metadata": {},
   "outputs": [],
   "source": [
    "departements = [76, 27, 14]"
   ]
  },
  {
   "cell_type": "code",
   "execution_count": 60,
   "id": "9a3375dd",
   "metadata": {},
   "outputs": [],
   "source": [
    "mask = ~quiz['Dept'].isin(departements)"
   ]
  },
  {
   "cell_type": "code",
   "execution_count": 61,
   "id": "619a8369",
   "metadata": {},
   "outputs": [
    {
     "data": {
      "text/plain": [
       "21     78\n",
       "35     78\n",
       "74     78\n",
       "255    78\n",
       "289    78\n",
       "Name: Dept, dtype: int64"
      ]
     },
     "execution_count": 61,
     "metadata": {},
     "output_type": "execute_result"
    }
   ],
   "source": [
    "quiz.loc[mask, 'Dept']"
   ]
  },
  {
   "cell_type": "code",
   "execution_count": 62,
   "id": "1b1a177e",
   "metadata": {},
   "outputs": [
    {
     "name": "stdout",
     "output_type": "stream",
     "text": [
      "Empty DataFrame\n",
      "Columns: [Position, Sexe, Temps, Dept, Temps_secondes, Age]\n",
      "Index: []\n",
      "     Position Sexe     Temps  Dept  Temps_secondes   Age\n",
      "109       110  NaN  00:44:39    27          780279  53.0\n",
      "291       292  NaN  00:59:16    27          781156  66.0\n",
      "Empty DataFrame\n",
      "Columns: [Position, Sexe, Temps, Dept, Temps_secondes, Age]\n",
      "Index: []\n",
      "Empty DataFrame\n",
      "Columns: [Position, Sexe, Temps, Dept, Temps_secondes, Age]\n",
      "Index: []\n",
      "Empty DataFrame\n",
      "Columns: [Position, Sexe, Temps, Dept, Temps_secondes, Age]\n",
      "Index: []\n",
      "     Position Sexe     Temps  Dept  Temps_secondes  Age\n",
      "73         74    M  00:42:05    14          780125  NaN\n",
      "133       134    M  00:45:46    76          780346  NaN\n",
      "190       191    M  00:49:52    27          780592  NaN\n",
      "231       232    M  00:53:11    76          780791  NaN\n"
     ]
    }
   ],
   "source": [
    "for col in quiz:\n",
    "    print(quiz.loc[quiz[col].isna()])"
   ]
  },
  {
   "cell_type": "code",
   "execution_count": 63,
   "id": "46842b05",
   "metadata": {},
   "outputs": [],
   "source": [
    "quiz['Temps'] = pd.to_datetime(quiz['Temps'], errors='coerce')"
   ]
  },
  {
   "cell_type": "code",
   "execution_count": 64,
   "id": "0f613388",
   "metadata": {},
   "outputs": [
    {
     "data": {
      "text/html": [
       "<div>\n",
       "<style scoped>\n",
       "    .dataframe tbody tr th:only-of-type {\n",
       "        vertical-align: middle;\n",
       "    }\n",
       "\n",
       "    .dataframe tbody tr th {\n",
       "        vertical-align: top;\n",
       "    }\n",
       "\n",
       "    .dataframe thead th {\n",
       "        text-align: right;\n",
       "    }\n",
       "</style>\n",
       "<table border=\"1\" class=\"dataframe\">\n",
       "  <thead>\n",
       "    <tr style=\"text-align: right;\">\n",
       "      <th></th>\n",
       "      <th>Position</th>\n",
       "      <th>Sexe</th>\n",
       "      <th>Temps</th>\n",
       "      <th>Dept</th>\n",
       "      <th>Temps_secondes</th>\n",
       "      <th>Age</th>\n",
       "    </tr>\n",
       "  </thead>\n",
       "  <tbody>\n",
       "    <tr>\n",
       "      <th>250</th>\n",
       "      <td>251</td>\n",
       "      <td>M</td>\n",
       "      <td>NaT</td>\n",
       "      <td>27</td>\n",
       "      <td>780887</td>\n",
       "      <td>42.0</td>\n",
       "    </tr>\n",
       "  </tbody>\n",
       "</table>\n",
       "</div>"
      ],
      "text/plain": [
       "     Position Sexe Temps  Dept  Temps_secondes   Age\n",
       "250       251    M   NaT    27          780887  42.0"
      ]
     },
     "execution_count": 64,
     "metadata": {},
     "output_type": "execute_result"
    }
   ],
   "source": [
    "quiz.loc[quiz['Temps'].isnull()]"
   ]
  },
  {
   "cell_type": "code",
   "execution_count": 65,
   "id": "a45df65c",
   "metadata": {},
   "outputs": [
    {
     "data": {
      "text/html": [
       "<div>\n",
       "<style scoped>\n",
       "    .dataframe tbody tr th:only-of-type {\n",
       "        vertical-align: middle;\n",
       "    }\n",
       "\n",
       "    .dataframe tbody tr th {\n",
       "        vertical-align: top;\n",
       "    }\n",
       "\n",
       "    .dataframe thead th {\n",
       "        text-align: right;\n",
       "    }\n",
       "</style>\n",
       "<table border=\"1\" class=\"dataframe\">\n",
       "  <thead>\n",
       "    <tr style=\"text-align: right;\">\n",
       "      <th></th>\n",
       "      <th>Position</th>\n",
       "      <th>Sexe</th>\n",
       "      <th>Temps</th>\n",
       "      <th>Dept</th>\n",
       "      <th>Temps_secondes</th>\n",
       "      <th>Age</th>\n",
       "    </tr>\n",
       "  </thead>\n",
       "  <tbody>\n",
       "    <tr>\n",
       "      <th>245</th>\n",
       "      <td>246</td>\n",
       "      <td>M</td>\n",
       "      <td>2023-05-29 00:54:26</td>\n",
       "      <td>76</td>\n",
       "      <td>780866</td>\n",
       "      <td>55.0</td>\n",
       "    </tr>\n",
       "    <tr>\n",
       "      <th>246</th>\n",
       "      <td>247</td>\n",
       "      <td>F</td>\n",
       "      <td>2023-05-29 00:54:27</td>\n",
       "      <td>76</td>\n",
       "      <td>780867</td>\n",
       "      <td>50.0</td>\n",
       "    </tr>\n",
       "    <tr>\n",
       "      <th>247</th>\n",
       "      <td>248</td>\n",
       "      <td>F</td>\n",
       "      <td>2023-05-29 00:54:40</td>\n",
       "      <td>27</td>\n",
       "      <td>780880</td>\n",
       "      <td>35.0</td>\n",
       "    </tr>\n",
       "    <tr>\n",
       "      <th>248</th>\n",
       "      <td>249</td>\n",
       "      <td>M</td>\n",
       "      <td>2023-05-29 00:54:44</td>\n",
       "      <td>27</td>\n",
       "      <td>780884</td>\n",
       "      <td>50.0</td>\n",
       "    </tr>\n",
       "    <tr>\n",
       "      <th>249</th>\n",
       "      <td>250</td>\n",
       "      <td>F</td>\n",
       "      <td>2023-05-29 00:54:45</td>\n",
       "      <td>14</td>\n",
       "      <td>780885</td>\n",
       "      <td>23.0</td>\n",
       "    </tr>\n",
       "    <tr>\n",
       "      <th>250</th>\n",
       "      <td>251</td>\n",
       "      <td>M</td>\n",
       "      <td>NaT</td>\n",
       "      <td>27</td>\n",
       "      <td>780887</td>\n",
       "      <td>42.0</td>\n",
       "    </tr>\n",
       "    <tr>\n",
       "      <th>251</th>\n",
       "      <td>252</td>\n",
       "      <td>M</td>\n",
       "      <td>2023-05-29 00:54:49</td>\n",
       "      <td>14</td>\n",
       "      <td>780889</td>\n",
       "      <td>63.0</td>\n",
       "    </tr>\n",
       "    <tr>\n",
       "      <th>252</th>\n",
       "      <td>253</td>\n",
       "      <td>M</td>\n",
       "      <td>2023-05-29 00:54:56</td>\n",
       "      <td>27</td>\n",
       "      <td>780896</td>\n",
       "      <td>35.0</td>\n",
       "    </tr>\n",
       "    <tr>\n",
       "      <th>253</th>\n",
       "      <td>254</td>\n",
       "      <td>F</td>\n",
       "      <td>2023-05-29 00:54:56</td>\n",
       "      <td>27</td>\n",
       "      <td>780896</td>\n",
       "      <td>40.0</td>\n",
       "    </tr>\n",
       "    <tr>\n",
       "      <th>254</th>\n",
       "      <td>255</td>\n",
       "      <td>M</td>\n",
       "      <td>2023-05-29 00:55:06</td>\n",
       "      <td>27</td>\n",
       "      <td>780906</td>\n",
       "      <td>38.0</td>\n",
       "    </tr>\n",
       "  </tbody>\n",
       "</table>\n",
       "</div>"
      ],
      "text/plain": [
       "     Position Sexe               Temps  Dept  Temps_secondes   Age\n",
       "245       246    M 2023-05-29 00:54:26    76          780866  55.0\n",
       "246       247    F 2023-05-29 00:54:27    76          780867  50.0\n",
       "247       248    F 2023-05-29 00:54:40    27          780880  35.0\n",
       "248       249    M 2023-05-29 00:54:44    27          780884  50.0\n",
       "249       250    F 2023-05-29 00:54:45    14          780885  23.0\n",
       "250       251    M                 NaT    27          780887  42.0\n",
       "251       252    M 2023-05-29 00:54:49    14          780889  63.0\n",
       "252       253    M 2023-05-29 00:54:56    27          780896  35.0\n",
       "253       254    F 2023-05-29 00:54:56    27          780896  40.0\n",
       "254       255    M 2023-05-29 00:55:06    27          780906  38.0"
      ]
     },
     "execution_count": 65,
     "metadata": {},
     "output_type": "execute_result"
    }
   ],
   "source": [
    "quiz.iloc[245:255, :]"
   ]
  },
  {
   "cell_type": "code",
   "execution_count": 72,
   "id": "85e47ae8",
   "metadata": {},
   "outputs": [
    {
     "data": {
      "text/plain": [
       "302    174.0\n",
       "260     73.0\n",
       "120     72.0\n",
       "218     72.0\n",
       "140     71.0\n",
       "       ...  \n",
       "139     18.0\n",
       "73       NaN\n",
       "133      NaN\n",
       "190      NaN\n",
       "231      NaN\n",
       "Name: Age, Length: 340, dtype: float64"
      ]
     },
     "execution_count": 72,
     "metadata": {},
     "output_type": "execute_result"
    }
   ],
   "source": [
    "quiz['Age'].sort_values(ascending = False)"
   ]
  },
  {
   "cell_type": "code",
   "execution_count": 73,
   "id": "676444bc",
   "metadata": {},
   "outputs": [
    {
     "data": {
      "text/plain": [
       "264    2640\n",
       "339     340\n",
       "338     339\n",
       "337     338\n",
       "336     337\n",
       "       ... \n",
       "3         4\n",
       "2         3\n",
       "1         2\n",
       "0         1\n",
       "43     -100\n",
       "Name: Position, Length: 340, dtype: int64"
      ]
     },
     "execution_count": 73,
     "metadata": {},
     "output_type": "execute_result"
    }
   ],
   "source": [
    "quiz['Position'].sort_values(ascending = False)"
   ]
  },
  {
   "cell_type": "code",
   "execution_count": 74,
   "id": "9c8100a1",
   "metadata": {},
   "outputs": [
    {
     "data": {
      "text/html": [
       "<div>\n",
       "<style scoped>\n",
       "    .dataframe tbody tr th:only-of-type {\n",
       "        vertical-align: middle;\n",
       "    }\n",
       "\n",
       "    .dataframe tbody tr th {\n",
       "        vertical-align: top;\n",
       "    }\n",
       "\n",
       "    .dataframe thead th {\n",
       "        text-align: right;\n",
       "    }\n",
       "</style>\n",
       "<table border=\"1\" class=\"dataframe\">\n",
       "  <thead>\n",
       "    <tr style=\"text-align: right;\">\n",
       "      <th></th>\n",
       "      <th>Position</th>\n",
       "      <th>Sexe</th>\n",
       "      <th>Temps</th>\n",
       "      <th>Dept</th>\n",
       "      <th>Temps_secondes</th>\n",
       "      <th>Age</th>\n",
       "    </tr>\n",
       "  </thead>\n",
       "  <tbody>\n",
       "  </tbody>\n",
       "</table>\n",
       "</div>"
      ],
      "text/plain": [
       "Empty DataFrame\n",
       "Columns: [Position, Sexe, Temps, Dept, Temps_secondes, Age]\n",
       "Index: []"
      ]
     },
     "execution_count": 74,
     "metadata": {},
     "output_type": "execute_result"
    }
   ],
   "source": [
    "quiz.loc[quiz['Position'].duplicated(keep=False)]"
   ]
  },
  {
   "cell_type": "code",
   "execution_count": 76,
   "id": "bf92a98e",
   "metadata": {},
   "outputs": [
    {
     "data": {
      "text/plain": [
       "340"
      ]
     },
     "execution_count": 76,
     "metadata": {},
     "output_type": "execute_result"
    }
   ],
   "source": [
    "quiz['Temps_secondes'].notnull().sum()"
   ]
  },
  {
   "cell_type": "code",
   "execution_count": 78,
   "id": "6bc2d629",
   "metadata": {},
   "outputs": [
    {
     "data": {
      "text/plain": [
       "339      F\n",
       "253      F\n",
       "256      F\n",
       "257      F\n",
       "91       F\n",
       "      ... \n",
       "122      M\n",
       "93       O\n",
       "167      O\n",
       "109    NaN\n",
       "291    NaN\n",
       "Name: Sexe, Length: 340, dtype: object"
      ]
     },
     "execution_count": 78,
     "metadata": {},
     "output_type": "execute_result"
    }
   ],
   "source": [
    "quiz['Sexe'].sort_values()"
   ]
  },
  {
   "cell_type": "code",
   "execution_count": 82,
   "id": "f47560ab",
   "metadata": {},
   "outputs": [
    {
     "data": {
      "text/plain": [
       "76    0.614706\n",
       "27    0.302941\n",
       "14    0.067647\n",
       "78    0.014706\n",
       "Name: Dept, dtype: float64"
      ]
     },
     "execution_count": 82,
     "metadata": {},
     "output_type": "execute_result"
    }
   ],
   "source": [
    "quiz['Dept'].value_counts(normalize=True)"
   ]
  },
  {
   "cell_type": "markdown",
   "id": "79ec240e",
   "metadata": {},
   "source": [
    "# 3 Représentations variables"
   ]
  },
  {
   "cell_type": "code",
   "execution_count": 83,
   "id": "9ab57815",
   "metadata": {},
   "outputs": [],
   "source": [
    "operations = pd.read_csv('data_2/operations.csv')"
   ]
  },
  {
   "cell_type": "code",
   "execution_count": 85,
   "id": "d3f61701",
   "metadata": {},
   "outputs": [
    {
     "data": {
      "text/plain": [
       "0   -1.6\n",
       "dtype: float64"
      ]
     },
     "execution_count": 85,
     "metadata": {},
     "output_type": "execute_result"
    }
   ],
   "source": [
    "operations['montant'].mode()"
   ]
  },
  {
   "cell_type": "code",
   "execution_count": 86,
   "id": "58d89d63",
   "metadata": {},
   "outputs": [
    {
     "data": {
      "text/plain": [
       "-45.91188925081436"
      ]
     },
     "execution_count": 86,
     "metadata": {},
     "output_type": "execute_result"
    }
   ],
   "source": [
    "operations['montant'].mean()"
   ]
  },
  {
   "cell_type": "code",
   "execution_count": 87,
   "id": "93518834",
   "metadata": {},
   "outputs": [
    {
     "data": {
      "text/plain": [
       "-9.6"
      ]
     },
     "execution_count": 87,
     "metadata": {},
     "output_type": "execute_result"
    }
   ],
   "source": [
    "operations['montant'].median()"
   ]
  },
  {
   "cell_type": "code",
   "execution_count": 99,
   "id": "f756560e",
   "metadata": {},
   "outputs": [
    {
     "name": "stdout",
     "output_type": "stream",
     "text": [
      "AUTRE : \n",
      "Moyenne :  -47.42071090047394 \n",
      "Mediane :  -8.14 \n",
      "Mode :  0   -1.6\n",
      "dtype: float64\n",
      "TRANSPORT : \n",
      "Moyenne :  -52.99714285714286 \n",
      "Mediane :  -53.1 \n",
      "Mode :  0   -73.0\n",
      "dtype: float64\n",
      "FACTURE TELEPHONE : \n",
      "Moyenne :  -7.973333333333333 \n",
      "Mediane :  -7.02 \n",
      "Mode :  0   -7.02\n",
      "1   -6.38\n",
      "dtype: float64\n",
      "COURSES : \n",
      "Moyenne :  -16.497435897435896 \n",
      "Mediane :  -12.24 \n",
      "Mode :  0   -32.67\n",
      "dtype: float64\n",
      "COTISATION BANCAIRE : \n",
      "Moyenne :  -1.8857142857142857 \n",
      "Mediane :  -1.92 \n",
      "Mode :  0   -1.92\n",
      "dtype: float64\n",
      "RESTAURANT : \n",
      "Moyenne :  -10.332500000000001 \n",
      "Mediane :  -10.1 \n",
      "Mode :  0   -9.2\n",
      "dtype: float64\n",
      "LOYER : \n",
      "Moyenne :  -345.0 \n",
      "Mediane :  -345.0 \n",
      "Mode :  0   -345.0\n",
      "dtype: float64\n",
      "nan : \n",
      "Moyenne :  nan \n",
      "Mediane :  nan \n",
      "Mode :  Series([], dtype: float64)\n"
     ]
    }
   ],
   "source": [
    "for categories in operations['categ'].unique():\n",
    "    \n",
    "    print(categories, ':', '\\nMoyenne : ', operations.loc[operations['categ']== categories, 'montant'].mean(), \n",
    "         '\\nMediane : ',operations.loc[operations['categ']== categories, 'montant'].median(), \n",
    "         '\\nMode : ',operations.loc[operations['categ']== categories, 'montant'].mode())"
   ]
  },
  {
   "cell_type": "code",
   "execution_count": 89,
   "id": "030549a8",
   "metadata": {},
   "outputs": [
    {
     "data": {
      "text/plain": [
       "array(['AUTRE', 'TRANSPORT', 'FACTURE TELEPHONE', 'COURSES',\n",
       "       'COTISATION BANCAIRE', 'RESTAURANT', 'LOYER', nan], dtype=object)"
      ]
     },
     "execution_count": 89,
     "metadata": {},
     "output_type": "execute_result"
    }
   ],
   "source": [
    "operations['categ'].unique()"
   ]
  },
  {
   "cell_type": "code",
   "execution_count": null,
   "id": "0788860f",
   "metadata": {},
   "outputs": [],
   "source": []
  }
 ],
 "metadata": {
  "kernelspec": {
   "display_name": "Python 3 (ipykernel)",
   "language": "python",
   "name": "python3"
  },
  "language_info": {
   "codemirror_mode": {
    "name": "ipython",
    "version": 3
   },
   "file_extension": ".py",
   "mimetype": "text/x-python",
   "name": "python",
   "nbconvert_exporter": "python",
   "pygments_lexer": "ipython3",
   "version": "3.9.16"
  }
 },
 "nbformat": 4,
 "nbformat_minor": 5
}
